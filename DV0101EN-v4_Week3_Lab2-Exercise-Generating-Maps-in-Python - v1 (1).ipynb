{
  "cells": [
    {
      "cell_type": "markdown",
      "id": "4a78d6bd-1e87-4ce7-98b9-ae000bbbe0ab",
      "metadata": {},
      "outputs": [],
      "source": [
        "\n\n<p style=\"text-align:center\">\n    <a href=\"https://skills.network\" target=\"_blank\">\n    <img src=\"https://cf-courses-data.s3.us.cloud-object-storage.appdomain.cloud/assets/logos/SN_web_lightmode.png\" width=\"200\" alt=\"Skills Network Logo\">\n    </a>\n</p>\n\n\n# Creating maps and visualizing Geospatial data\n\n## Abstract\nIn this lab, you'll delve into geospatial data visualization techniques using tools like Folium and Matplotlib. You'll harness the power of these technologies to create maps that uncover insights into healthcare trends, focusing specifically on diabetes data. Through interactive activities, you'll generate visual displays that unveil geographical intricacies related to diabetes prevalence.\n\nEstimated time needed: **30** minutes\n    \n\n## Objectives\n\nAfter completing this lab you will be able to:\n\n* Create maps and visualize geospatial data with Folium\n"
      ]
    },
    {
      "cell_type": "markdown",
      "id": "38c8e842-3fb9-4330-9032-ee3fcc39b753",
      "metadata": {},
      "outputs": [],
      "source": [
        "## Introduction\n\nIn this lab, we will learn how to create maps for different objectives. To do that, we will part ways with Matplotlib and work with another Python visualization library, namely **Folium**. What is nice about **Folium** is that it was developed for the sole purpose of visualizing geospatial data. While other libraries are available to visualize geospatial data, such as **plotly**, they might have a cap on how many API calls you can make within a defined time frame. **Folium**, on the other hand, is completely free.\n"
      ]
    },
    {
      "cell_type": "markdown",
      "id": "3a34bfc2-338a-4639-baaf-c59eba14d0b5",
      "metadata": {},
      "outputs": [],
      "source": [
        "## Table of Contents\n\n<div class=\"alert alert-block alert-info\" style=\"margin-top: 20px\">\n\n1. [Exploring Datasets*](#0)<br>\n2. [Importing Libraries](#2)<br>\n3. [Introduction to Folium](#4) <br>\n4. [Generating additional data](#3) <br>\n5. [Map with Markers](#6) <br>\n6. [Choropleth Maps](#8) <br>\n</div>\n"
      ]
    },
    {
      "cell_type": "markdown",
      "id": "0d65a206-f944-4783-8d08-579105610dc0",
      "metadata": {},
      "outputs": [],
      "source": [
        "# Exploring Datasets<a id=\"0\"></a>\n\nToolkits: This lab heavily relies on [*pandas*](http://pandas.pydata.org/) and [*Numpy*](http://www.numpy.org/) for data wrangling, analysis, and visualization. The primary plotting library we will explore in this lab is [**Folium**](https://github.com/python-visualization/folium/).\n\n## The Dataset: Diabetes 130 US hospitals for years 1999-2008<a id=\"1\"></a>\n<p>\nThere are various formats for a dataset: .csv, .json, .xlsx  etc. The dataset can be stored in different places, on your local machine or sometimes online.<br>\n\nIn this section, you will learn how to load a dataset into our Jupyter Notebook.<br>\n\nIn our case, the Diabetes Dataset is an online source, and it is in a CSV (comma separated value) format. Let's use this dataset as an example to practice data reading.\n\n<ul>\n    <li>Data source: <a href=\"https://www.kaggle.com/datasets/brandao/diabetes\" target=\"_blank\">https://www.kaggle.com/datasets/brandao/diabetes</a></li>\n    <li>Data type: csv</li>\n</ul>\n\nThe statistical data obtained from https://www.kaggle.com/datasets/brandao/diabetes under [CC0: Public Domain](https://creativecommons.org/publicdomain/zero/1.0/) license.\n\nDataset output column is \"Readmitted\" with values \"<30\",\">30\",\"NO\". The rest of the columns (44) are input columns.\n\nThe Pandas Library is a useful tool that enables us to read various datasets into a dataframe; our Jupyter notebook platforms have a built-in <b>Pandas Library</b> so that all we need to do is import Pandas without installing.\n\nWe have already **pre-processed** the data, we will use the **clean data** saved in the csv format for this lab. The original Diabetes dataset can be fetched from [here](https://cf-courses-data.s3.us.cloud-object-storage.appdomain.cloud/IBMSkillsNetwork-GPXX0IT0EN/diabetic_data.csv).\n</p>\n\n<details><summary>DataSet structure</summary>\nColumn names:\n    \n1. `Race` - Race. Values: Caucasian, Asian, African American, Hispanic, and other\n2. `Gender` - Gender. Values: male, female, and unknown/invalid \n3. `Age` - Age grouped in 10-year intervals: [0, 10), [10, 20), ..., [90, 100)\n4. `Weight` - Weight in pounds \n5. `Time In Hospital` - Integer number of days between admission and discharge\n6. `Medical Specialty` - Integer identifier of a specialty of the admitting physician, corresponding to 84 distinct values \n7. `Num Lab Procedures` - Number of lab tests performed during the encounter \n8. `Num Procedures` - Number of procedures (other than lab tests) performed during the encounter \n9. `Num Medications` - Number of distinct generic names administered during the encounter \n10. `Number Outpatient` - Number of outpatient visits of the patient in the year preceding the encounter \n11. `Number Emergency` - Number of emergency visits of the patient in the year preceding the encounter \n12. `Number Inpatient` - Number of inpatient visits of the patient in the year preceding the encounter \n13. `Diagnosis1` - The primary diagnosis (coded as first three digits of ICD9); 848 distinct values\n14. `Diagnosis2` - Secondary diagnosis (coded as first three digits of ICD9); 923 distinct values\n15. `Diagnosis3` - Additional secondary diagnosis (coded as first three digits of ICD9); 954 distinct values\n16. `Number Diagnoses` - Number of diagnoses entered into the system \n17. `Max Glu Serum` - Indicates the range of the result or if the test was not taken. Values: >200, >300, normal, none if not measured\n18. `A1c Result` - Indicates the range of the result or if the test was not taken. Values: >8, >7, normal, none if not measured\n19. `Metformin` - Indicates whether the drug was prescribed or there was a change in the dosage \n20. `Repaglinide` - Indicates whether the drug was prescribed or there was a change in the dosage \n21. `Nateglinide` - Indicates whether the drug was prescribed or there was a change in the dosage \n22. `Chlorpropamide` - Indicates whether the drug was prescribed or there was a change in the dosage \n23. `Glimepiride` - Indicates whether the drug was prescribed or there was a change in the dosage\n24. `Acetohexamide` - Indicates whether the drug was prescribed or there was a change in the dosage \n25. `Glipizide` - Indicates whether the drug was prescribed or there was a change in the dosage \n26. `Glyburide` - Indicates whether the drug was prescribed or there was a change in the dosage \n27. `Tolbutamide` - Indicates whether the drug was prescribed or there was a change in the dosage \n28. `Pioglitazone` - Indicates whether the drug was prescribed or there was a change in the dosage \n29. `Rosiglitazone` - Indicates whether the drug was prescribed or there was a change in the dosage \n30. `Acarbose` - Indicates whether the drug was prescribed or there was a change in the dosage \n31. `Miglitol` - Indicates whether the drug was prescribed or there was a change in the dosage \n32. `Troglitazone` - Indicates whether the drug was prescribed or there was a change in the dosage \n33. `Tolazamide` - Indicates whether the drug was prescribed or there was a change in the dosage \n34. `Examide` - Indicates whether the drug was prescribed or there was a change in the dosage \n35. `Citoglipton` - Indicates whether the drug was prescribed or there was a change in the dosage \n36. `Insulin` - Indicates whether the drug was prescribed or there was a change in the dosage \n37. `Glyburide-metformin` - Indicates whether the drug was prescribed or there was a change in the dosage \n38. `Glipizide-metformin` - Indicates whether the drug was prescribed or there was a change in the dosage \n39. `Glimepiride-pioglitazone` - Indicates whether the drug was prescribed or there was a change in the dosage \n40. `Metformin-rosiglitazone` - Indicates whether the drug was prescribed or there was a change in the dosage \n41. `Metformin-pioglitazone` - Indicates whether the drug was prescribed or there was a change in the dosage \n42. `Change` - Indicates if there was a change in diabetic medications (either dosage or generic name)\n43. `Diabetes Medication` - Indicates if there was any diabetic medication prescribed\n44. **`Readmitted`** - Days to inpatient readmission. Values: <30, >30, No for no record of readmission\n</details>\n"
      ]
    },
    {
      "cell_type": "markdown",
      "id": "4e46e697-d5ab-4db6-821a-be34a7eae190",
      "metadata": {},
      "outputs": [],
      "source": [
        "# Importing Libraries <a id=\"2\"></a>\n"
      ]
    },
    {
      "cell_type": "markdown",
      "id": "c4b9a8d8-ef8b-43b1-a16b-cf4292bef279",
      "metadata": {},
      "outputs": [],
      "source": [
        "Import Primary Modules:\n"
      ]
    },
    {
      "cell_type": "code",
      "id": "1691d715-e8d8-4482-9440-f049ad93d6cd",
      "metadata": {},
      "outputs": [],
      "source": [
        "import numpy as np  # useful for many scientific computing in Python\nimport pandas as pd # primary data structure library"
      ]
    },
    {
      "cell_type": "markdown",
      "id": "3c86082d-1f30-4b47-8e9b-160708ad7218",
      "metadata": {},
      "outputs": [],
      "source": [
        "#### Let's install **Folium**\n"
      ]
    },
    {
      "cell_type": "markdown",
      "id": "3aa73493-ef42-402c-ba93-7ec3551289fd",
      "metadata": {},
      "outputs": [],
      "source": [
        "**Folium** is not available by default. So, we first need to install it before we are able to import it.\n"
      ]
    },
    {
      "cell_type": "code",
      "id": "61ba8237-a0c8-4e73-b0f3-f3e47235b5d0",
      "metadata": {},
      "outputs": [],
      "source": [
        "!pip install folium==0.14.0"
      ]
    },
    {
      "cell_type": "markdown",
      "id": "4e745ca0-40dc-4a74-94a1-57cf0df38eaa",
      "metadata": {},
      "outputs": [],
      "source": [
        "Also we need to install `geopandas` package\n"
      ]
    },
    {
      "cell_type": "code",
      "id": "349b4c98-e766-4185-8b75-f46352b8c1a3",
      "metadata": {},
      "outputs": [],
      "source": [
        "!pip install geopandas"
      ]
    },
    {
      "cell_type": "markdown",
      "id": "bc72dab5-2572-4a77-9a01-193dff3d02c5",
      "metadata": {},
      "outputs": [],
      "source": [
        "**GeoPandas** is an open-source Python library that extends the capabilities of pandas, a popular data manipulation library, by adding geospatial operations and data types. It enables you to work with geospatial data within a DataFrame-like structure, combining the functionality of pandas with the ability to handle geometric objects.\n\nKey features of GeoPandas include:\n\n> Geometric operations: GeoPandas allows you to perform various geometric operations on geometric objects, such as points, lines, and polygons. This includes operations like intersection, union, buffer, distance calculation, and more.\n\n> Data structures: GeoPandas introduces two main data structures: GeoSeries and GeoDataFrame. These structures are similar to pandas Series and DataFrame but are specifically designed to handle geometric data. GeoSeries holds a collection of geometric objects, while GeoDataFrame is a tabular data structure that contains a GeoSeries along with other columns of data.\n\n> Integration with spatial data formats: It supports reading and writing data in various geospatial file formats, such as GeoJSON, ESRI Shapefiles, and more. This makes it easy to import and export geospatial data.\n\n> Visualization: GeoPandas provides visualization capabilities, allowing you to create maps and plots directly from GeoDataFrames. It integrates well with libraries like Matplotlib for plotting and visualizing geospatial data.\n\nGeoPandas simplifies geospatial data manipulation and analysis by leveraging the power of pandas and providing an interface for handling geographic data seamlessly within the Python ecosystem.\n"
      ]
    },
    {
      "cell_type": "code",
      "id": "38a44ecb-2965-49fe-9f6c-f31c05be1067",
      "metadata": {},
      "outputs": [],
      "source": [
        "import folium\nimport geopandas as gpd\n\nprint('All libraries are installed and imported!')"
      ]
    },
    {
      "cell_type": "markdown",
      "id": "ed0fb8fb-88b7-4416-9830-8d030e239ce5",
      "metadata": {},
      "outputs": [],
      "source": [
        "# Introduction to Folium <a id=\"4\"></a>\n"
      ]
    },
    {
      "cell_type": "markdown",
      "id": "e9b8208f-a924-4b20-91c2-35ffb438b885",
      "metadata": {},
      "outputs": [],
      "source": [
        "Folium is a powerful Python library that helps you create several types of Leaflet maps. The fact that the Folium results are interactive makes this library very useful for dashboard building.\n\nFrom the official Folium documentation page:\n\n> Folium builds on the data wrangling strengths of the Python ecosystem and the mapping strengths of the Leaflet.js library. Manipulate your data in Python, then visualize it in on a Leaflet map via Folium.\n\n> Folium makes it easy to visualize data that's been manipulated in Python on an interactive Leaflet map. It enables both the binding of data to a map for choropleth visualizations as well as passing Vincent/Vega visualizations as markers on the map.\n\n> The library has a number of built-in tilesets from OpenStreetMap, Mapbox, CartoDB, and Stamen, and supports custom tilesets with Mapbox or Cloudmade API keys. Folium supports both GeoJSON and TopoJSON overlays, as well as the binding of data to those overlays to create choropleth maps with color-brewer color schemes.\n"
      ]
    },
    {
      "cell_type": "markdown",
      "id": "ee51527c-2f8d-472a-8b56-75dc1992cf4c",
      "metadata": {},
      "outputs": [],
      "source": [
        "Generating the world map is straightforward in **Folium**. You simply create a **Folium** *Map* object, and then you display it. What is attractive about **Folium** maps is that they are interactive, so you can zoom into any region of interest despite the initial zoom level.\n"
      ]
    },
    {
      "cell_type": "code",
      "id": "26d44a71-f7d0-45ca-ba7f-d79c7b00686d",
      "metadata": {},
      "outputs": [],
      "source": [
        "# define the world map\nworld_map = folium.Map()\n\n# display world map\nworld_map"
      ]
    },
    {
      "cell_type": "markdown",
      "id": "f25a303c-5b17-4a1a-adf8-1986977cd189",
      "metadata": {},
      "outputs": [],
      "source": [
        "Go ahead. Try zooming in and out of the rendered map above.\n"
      ]
    },
    {
      "cell_type": "markdown",
      "id": "47b5f1f0-9f34-4d4f-9163-a13a6d3e933e",
      "metadata": {},
      "outputs": [],
      "source": [
        "You can customize this default definition of the world map by specifying the centre of your map, and the initial zoom level.\n\nAll locations on a map are defined by their respective *Latitude* and *Longitude* values. So you can create a map and pass in a center of *Latitude* and *Longitude* values of **[0, 0]**. \n\nFor a defined center, you can also define the initial zoom level into that location when the map is rendered. **The higher the zoom level the more the map is zoomed into the center**.\n\nLet's create a map centered around the United States and play with the zoom level to see how it affects the rendered map.\n"
      ]
    },
    {
      "cell_type": "code",
      "id": "7af0edb4-7f51-4aa1-b7aa-05c1595f558b",
      "metadata": {},
      "outputs": [],
      "source": [
        "# define the world map centered around USA with a low zoom level\nworld_map = folium.Map(location=[36.130, -96.35], zoom_start=4)\n\n# display world map\nworld_map"
      ]
    },
    {
      "cell_type": "markdown",
      "id": "ef495602-4168-4437-956b-ba6e55fa65e4",
      "metadata": {},
      "outputs": [],
      "source": [
        "Let's create the map again with a higher zoom level.\n"
      ]
    },
    {
      "cell_type": "code",
      "id": "92337c29-c26f-43cb-8016-24f01d3445f3",
      "metadata": {},
      "outputs": [],
      "source": [
        "# define the world map centered around USA with a higher zoom level\nworld_map = folium.Map(location=[36.130, -96.35], zoom_start=8)\n\n# display world map\nworld_map"
      ]
    },
    {
      "cell_type": "markdown",
      "id": "81cfa93e-8ac4-4d97-9a0e-964cd8434769",
      "metadata": {},
      "outputs": [],
      "source": [
        "As you can see, the higher the zoom level the more the map is zoomed into the given center.\n"
      ]
    },
    {
      "cell_type": "markdown",
      "id": "c0e8f09b-06f6-44bf-b4fb-5aa766d1811c",
      "metadata": {},
      "outputs": [],
      "source": [
        "**Question**: Create a map of Mexico with a zoom level of 5.\n"
      ]
    },
    {
      "cell_type": "code",
      "id": "92c0e959-1d80-4f93-b9c0-84cfa92a104a",
      "metadata": {},
      "outputs": [],
      "source": [
        "### type your answer here"
      ]
    },
    {
      "cell_type": "markdown",
      "id": "2367ee91-af7c-4a14-8559-9f7549e6cdd3",
      "metadata": {},
      "outputs": [],
      "source": [
        "<details><summary>Click here for a sample python solution</summary>\n\n```python\n#The correct answer is:\n#define Mexico's geolocation coordinates\nmexico_latitude = 23.6345 \nmexico_longitude = -102.5528\n\n# define the world map centered around Mexico with a higher zoom level\nmexico_map = folium.Map(location=[mexico_latitude, mexico_longitude], zoom_start=5)\n\n# display world map\nmexico_map\n```\n\n</details>\n"
      ]
    },
    {
      "cell_type": "markdown",
      "id": "d78a6048-b449-403d-b8c4-67c1dd414d15",
      "metadata": {},
      "outputs": [],
      "source": [
        "Another cool feature of **Folium** is that you can generate different map styles.\n"
      ]
    },
    {
      "cell_type": "markdown",
      "id": "3101028d-1c40-4c9d-9cde-0563ad5b91d6",
      "metadata": {},
      "outputs": [],
      "source": [
        "### CartoDB Dark Matter\n\nCartoDB's Dark Matter basemap is a style designed for visualization purposes. It offers a dark-themed map that's particularly useful for highlighting data with vibrant colors or for emphasizing specific geographic patterns. \n"
      ]
    },
    {
      "cell_type": "markdown",
      "id": "cfedaa59-34f1-4320-9824-8c9e2acc545c",
      "metadata": {},
      "outputs": [],
      "source": [
        "Let's create a CartoDB dark matter map of the United States with a zoom level of 4.\n"
      ]
    },
    {
      "cell_type": "code",
      "id": "100865ac-2ae9-46ba-9b29-67ba08479568",
      "metadata": {},
      "outputs": [],
      "source": [
        "# create a CartoDB dark matter map of the world centered around USA\nworld_map = folium.Map(location=[36.130, -96.35], zoom_start=4, tiles='CartoDB dark_matter')\n\n# display map\nworld_map"
      ]
    },
    {
      "cell_type": "markdown",
      "id": "b57efb6a-e305-4e14-964f-55031ef2311a",
      "metadata": {},
      "outputs": [],
      "source": [
        "Feel free to zoom in and out to see how this style compares to the default one.\n"
      ]
    },
    {
      "cell_type": "markdown",
      "id": "11b8bced-42da-419f-b4b1-1613672ff6a7",
      "metadata": {},
      "outputs": [],
      "source": [
        "### CartoDB Positron\n\nCartoDB Positron is another basemap offered by CartoDB, and it's essentially the opposite of Dark Matter in terms of visual style. While Dark Matter provides a dark and dramatic background, Positron offers a clean, minimalistic, and light-themed basemap.\n"
      ]
    },
    {
      "cell_type": "markdown",
      "id": "1f5ce8eb-50b0-4428-ac80-ada2d77868d0",
      "metadata": {},
      "outputs": [],
      "source": [
        "Let's create a CartoDB positron map of the United States with zoom level 4.\n"
      ]
    },
    {
      "cell_type": "code",
      "id": "9f1e7e70-3ee7-4aae-b39c-76276355f26b",
      "metadata": {},
      "outputs": [],
      "source": [
        "# create a CartoDB positron map of the world centered around USA\nworld_map = folium.Map(location=[36.130, -96.35], zoom_start=4, tiles='CartoDB positron')\n\n# display map\nworld_map"
      ]
    },
    {
      "cell_type": "markdown",
      "id": "2bdec3df-d80d-4d48-9cb4-8137ecbce17b",
      "metadata": {},
      "outputs": [],
      "source": [
        "Feel free to zoom in and out to see how this style compares to CartoDB dark matter, and the default style.\n"
      ]
    },
    {
      "cell_type": "markdown",
      "id": "5fb05074-82fe-47d1-bdfa-80112b12c143",
      "metadata": {},
      "outputs": [],
      "source": [
        "Zoom in and notice outlines or representations of buildings and other structures, especially in urban areas.\n"
      ]
    },
    {
      "cell_type": "markdown",
      "id": "015b50ee-0510-4adc-9894-2223e3492991",
      "metadata": {},
      "outputs": [],
      "source": [
        "**Question**: Create a light-themed map of Mexico. Use a zoom level of 6.\n"
      ]
    },
    {
      "cell_type": "code",
      "id": "a5a27e06-8990-4bd7-b274-3e74d0217fe1",
      "metadata": {},
      "outputs": [],
      "source": [
        "### type your answer here"
      ]
    },
    {
      "cell_type": "markdown",
      "id": "f438afe3-5cc0-4891-aeb5-9f6e33ec7a2b",
      "metadata": {},
      "outputs": [],
      "source": [
        "<details><summary>Click here for a sample python solution</summary>\n\n```python\n#The correct answer is:\n#define Mexico's geolocation coordinates\nmexico_latitude = 23.6345 \nmexico_longitude = -102.5528\n\n# define the world map centered around Mexico with a higher zoom level\nmexico_map = folium.Map(location=[mexico_latitude, mexico_longitude], zoom_start=6, tiles='CartoDB positron')\n\n# display world map\nmexico_map\n```\n\n</details>\n"
      ]
    },
    {
      "cell_type": "markdown",
      "id": "c6d22941-24de-4240-bbb4-123b087adfa0",
      "metadata": {},
      "outputs": [],
      "source": [
        "# Generating additional data <a id=\"3\"></a>\n"
      ]
    },
    {
      "cell_type": "markdown",
      "id": "0a6cc7b9-3dba-45a3-865d-4f87b45f53c6",
      "metadata": {},
      "outputs": [],
      "source": [
        "Let's download and import the diabetes data using *pandas* `read_csv()` method.\n"
      ]
    },
    {
      "cell_type": "markdown",
      "id": "2575f8e6-87c9-4a65-8fa8-bfe700907ae7",
      "metadata": {},
      "outputs": [],
      "source": [
        "Download the dataset and read it into a *pandas* dataframe:\n"
      ]
    },
    {
      "cell_type": "code",
      "id": "735db49e-2ac4-42eb-b607-bddac25e2f30",
      "metadata": {},
      "outputs": [],
      "source": [
        "df = pd.read_csv('https://cf-courses-data.s3.us.cloud-object-storage.appdomain.cloud/IBMSkillsNetwork-GPXX0B0GEN/diabetes_new.csv')\n\nprint('Dataset downloaded and read into a pandas dataframe!')"
      ]
    },
    {
      "cell_type": "markdown",
      "id": "80a31494-442e-42f4-8ce2-5ffd3c124239",
      "metadata": {},
      "outputs": [],
      "source": [
        "Let's take a look at the dataset.\n"
      ]
    },
    {
      "cell_type": "code",
      "id": "0ba2d3e4-da9e-4c87-bb60-eb1f15ba8c78",
      "metadata": {},
      "outputs": [],
      "source": [
        "df.head()"
      ]
    },
    {
      "cell_type": "markdown",
      "id": "c156f61a-7b9f-4c98-b47d-ddf2a5d00008",
      "metadata": {},
      "outputs": [],
      "source": [
        "We need to generate column including random US states for you, so that you can create a Choropleth maps and markers. We will use `numpy.random.choice()` to add random state to existing data of patients in the dataframe.\n"
      ]
    },
    {
      "cell_type": "code",
      "id": "156bae20-e749-4fb7-b61d-e417bde2ef0d",
      "metadata": {},
      "outputs": [],
      "source": [
        "# List of US states\nus_states = ['Alabama', 'Alaska', 'Arizona', 'Arkansas', 'California', 'Colorado', 'Connecticut', 'Delaware', 'Florida', 'Georgia',\n             'Hawaii', 'Idaho', 'Illinois', 'Indiana', 'Iowa', 'Kansas', 'Kentucky', 'Louisiana', 'Maine', 'Maryland',\n             'Massachusetts', 'Michigan', 'Minnesota', 'Mississippi', 'Missouri', 'Montana', 'Nebraska', 'Nevada', 'New Hampshire',\n             'New Jersey', 'New Mexico', 'New York', 'North Carolina', 'North Dakota', 'Ohio', 'Oklahoma', 'Oregon', 'Pennsylvania',\n             'Rhode Island', 'South Carolina', 'South Dakota', 'Tennessee', 'Texas', 'Utah', 'Vermont', 'Virginia', 'Washington',\n             'West Virginia', 'Wisconsin', 'Wyoming']\n\n# Add a new column with random US states\ngenerated_states = np.random.choice(us_states, df.shape[0])\n\ndf['State'] = generated_states\n\ndf.head()"
      ]
    },
    {
      "cell_type": "markdown",
      "id": "cdb22991-24df-466b-8fe0-63ab52496295",
      "metadata": {},
      "outputs": [],
      "source": [
        "Now we can aggregate the count of diabetes cases for each US State in the 'State' column of the DataFrame df and present a new DataFrame `df_num_cases` that shows the count of diabetes cases for each US State in the dataset.\n"
      ]
    },
    {
      "cell_type": "code",
      "id": "4da15e37-b330-4848-9da4-87ce1655ca31",
      "metadata": {},
      "outputs": [],
      "source": [
        "# Create new dataframe with state column\ndf_num_cases = pd.DataFrame(df['State'])\n\n# Add count column to sum up the cases of diabetes\ndf_num_cases['Count'] = 1\n\n# Group the data by state and get number of cases for each state\ndf_num_cases = df_num_cases.groupby('State').sum().reset_index()\n\n# Show the result\ndf_num_cases.head()"
      ]
    },
    {
      "cell_type": "markdown",
      "id": "3e3b3342-1473-45d9-884b-cf7a77aa53f9",
      "metadata": {},
      "outputs": [],
      "source": [
        "Much better! But there is something we are missing. To visualize geographic points, we need to have latitude and longitude. To do this, we will download a geojson file containing polygons of the US states and use the `geopandas` library to find the coordinates of each state.\n"
      ]
    },
    {
      "cell_type": "markdown",
      "id": "e74e1930-7a22-479a-90a0-a2093e7c4441",
      "metadata": {},
      "outputs": [],
      "source": [
        "We're in need of a GeoJSON file that outlines the boundaries of specific US states, counties, or the entire country. Since we're focused on creating a map of the United States, we'll require a GeoJSON file defining the boundaries of all US states. We'll provide this file for you, so let's proceed with the download. Let's name it `states` for easy reference.\n\nGeoJSON file source: [US States](https://exploratory.io/map) under MIT License.\n"
      ]
    },
    {
      "cell_type": "code",
      "id": "5ad8040a-bfe6-4da7-a21c-4d9006cdb36f",
      "metadata": {},
      "outputs": [],
      "source": [
        "states = gpd.read_file('https://cf-courses-data.s3.us.cloud-object-storage.appdomain.cloud/IBMSkillsNetwork-GPXX0B0GEN/states.geojson')"
      ]
    },
    {
      "cell_type": "markdown",
      "id": "b4873c21-a859-4eb2-9895-60742e844e40",
      "metadata": {},
      "outputs": [],
      "source": [
        "Now using `geopandas` and `centroid` method let's find coordinates of each state's center and create a DataFrame (`df_states`) containing columns for state names, longitude, and latitude extracted from the GeoJSON file.\n"
      ]
    },
    {
      "cell_type": "code",
      "id": "8f3e0c8f-afd8-4627-940f-6e0eb1e905eb",
      "metadata": {},
      "outputs": [],
      "source": [
        "states_data = []\nfor index, row in states.iterrows():\n    state_name = row['NAME']\n    geometry = row['geometry']\n    centroid = geometry.centroid\n    longitude = centroid.x\n    latitude = centroid.y\n    states_data.append({\n        'State': state_name,\n        'Longitude': longitude,\n        'Latitude': latitude\n    })\n\n# Create a DataFrame from the extracted data\ndf_states = pd.DataFrame(states_data)\n\n# Display the DataFrame with state names, longitude, and latitude\ndf_states.head()"
      ]
    },
    {
      "cell_type": "markdown",
      "id": "402cd1a5-813b-4af7-9180-15f1639656a9",
      "metadata": {},
      "outputs": [],
      "source": [
        "Now we will create merged dataframe called `df_new` using `pd.merge(`) function which contains columns from both `df_num_cases` and `df_states` DataFrames matched by the 'State' column. Rows will be aligned based on the 'State' column values. Also we will drop missing values using `dropna()` function.\n"
      ]
    },
    {
      "cell_type": "code",
      "id": "b26dcfce-d87d-4dbc-8090-2ab70b00a078",
      "metadata": {},
      "outputs": [],
      "source": [
        "df_new = pd.merge(df_num_cases, df_states, on='State', how='left').dropna()\ndf_new.head()"
      ]
    },
    {
      "cell_type": "markdown",
      "id": "233c65f3-9ecd-4c2b-9ef4-c326fd664757",
      "metadata": {},
      "outputs": [],
      "source": [
        "Now we are ready to start generate markers and Chloropleth maps.\n"
      ]
    },
    {
      "cell_type": "markdown",
      "id": "fdbc64f9-cb4a-4425-a9a9-9b7920ff7496",
      "metadata": {},
      "outputs": [],
      "source": [
        "# Maps with Markers <a id=\"6\"></a>\n"
      ]
    },
    {
      "cell_type": "markdown",
      "id": "e00638ad-2932-434f-9743-1e75e3f9560c",
      "metadata": {},
      "outputs": [],
      "source": [
        "Now we need to visualize the coordinates we just obtained. Let's visualize where the shares of the disease in each state. Let's start with New York. We will use the default style, and we will initialize the zoom level to 7.\n"
      ]
    },
    {
      "cell_type": "code",
      "id": "f46c3eb5-3d7a-427f-b4a2-2da13ce49dde",
      "metadata": {},
      "outputs": [],
      "source": [
        "# New York\ndf_ny = df_new[(df_new['State'] == 'New York')]\ndf_ny"
      ]
    },
    {
      "cell_type": "code",
      "id": "3abcd19f-6d22-4534-beb0-c7ca08f68a3d",
      "metadata": {},
      "outputs": [],
      "source": [
        "# create map and display it\nnewyork_map = folium.Map(location=[df_ny['Latitude'], df_ny['Longitude']], zoom_start=7)\n\n# display the map of New York\nnewyork_map"
      ]
    },
    {
      "cell_type": "markdown",
      "id": "d3a71888-da19-48bb-a9a4-8a1170d152e1",
      "metadata": {},
      "outputs": [],
      "source": [
        "Now let's superimpose all the locations of the states onto the map. The way to do that in **Folium** is to create a *feature group* with its own features and style and then add it to the `newyork_map`.\n"
      ]
    },
    {
      "cell_type": "code",
      "id": "374a8289-c010-41b4-8e18-0655be905a0d",
      "metadata": {},
      "outputs": [],
      "source": [
        "# instantiate a feature group for the incidents in the dataframe\nincidents = folium.map.FeatureGroup()\n\n# loop through the all states and add each to the incidents feature group\nfor lat, lng, in zip(df_new['Latitude'], df_new['Longitude']):\n    incidents.add_child(\n        folium.vector_layers.CircleMarker(\n            [lat, lng],\n            radius=10, # define how big you want the circle markers to be\n            color='yellow',\n            fill=True,\n            fill_color='blue',\n            fill_opacity=0.6\n        )\n    )\n\n# add incidents to map\nnewyork_map.add_child(incidents)"
      ]
    },
    {
      "cell_type": "markdown",
      "id": "8404652b-c7d4-48fe-9432-da8ec3439bda",
      "metadata": {},
      "outputs": [],
      "source": [
        "You can also add some pop-up text that would get displayed when you hover over a marker. Let's make each marker display the number of diabetes cases in each state when hovered over.\n"
      ]
    },
    {
      "cell_type": "code",
      "id": "f078da36-a4bf-4ead-ab59-275dc54c578d",
      "metadata": {},
      "outputs": [],
      "source": [
        "# instantiate a feature group for the incidents in the dataframe\nincidents = folium.map.FeatureGroup()\n\nnewyork_map = folium.Map(location=[df_ny['Latitude'], df_ny['Longitude']], zoom_start=4)\n\n# loop through the all states and add each to the incidents feature group\nfor lat, lng, in zip(df_new['Latitude'], df_new['Longitude']):\n    incidents.add_child(\n        folium.vector_layers.CircleMarker(\n            [lat, lng],\n            radius=5, # define how big you want the circle markers to be\n            color='yellow',\n            fill=True,\n            fill_color='blue',\n            fill_opacity=0.6\n        )\n    )\n\n# add pop-up text to each marker on the map\nlatitudes = list(df_new['Latitude'])\nlongitudes = list(df_new['Longitude'])\nlabels = list(df_new['Count'])\n\nfor lat, lng, label in zip(latitudes, longitudes, labels):\n    folium.Marker([lat, lng], popup=label).add_to(newyork_map)    \n    \n# add incidents to map\nnewyork_map.add_child(incidents)"
      ]
    },
    {
      "cell_type": "markdown",
      "id": "dfb14ea5-8f27-40ee-9bfb-3e58013ebc9c",
      "metadata": {},
      "outputs": [],
      "source": [
        "Isn't this really cool? Now you are able to know the share of people with diabetes occurred at each marker.\n\nIf you find the map to be so congested will all these markers, there are two remedies to this problem. The simpler solution is to remove these location markers and just add the text to the circle markers themselves as follows:\n"
      ]
    },
    {
      "cell_type": "code",
      "id": "5e451a17-1b57-4cfa-bb60-84b87d220cb9",
      "metadata": {},
      "outputs": [],
      "source": [
        "# create map and display it\nnewyork_map = folium.Map(location=[df_ny['Latitude'], df_ny['Longitude']], zoom_start=4)\n\n# loop through the all states and add each to the map\nfor lat, lng, label in zip(df_new['Latitude'], df_new['Longitude'], df_new['Count']):\n    folium.vector_layers.CircleMarker(\n        [lat, lng],\n        radius=5, # define how big you want the circle markers to be\n        color='yellow',\n        fill=True,\n        popup=label,\n        fill_color='blue',\n        fill_opacity=0.6\n    ).add_to(newyork_map)\n\n# show map\nnewyork_map"
      ]
    },
    {
      "cell_type": "markdown",
      "id": "664e0a87-db59-40a6-934f-3d3407c1ed04",
      "metadata": {},
      "outputs": [],
      "source": [
        "The other proper remedy is to group the markers into different clusters. Each cluster is then represented by the number of states in each area. You can then analyze these clusters separately.\n\nTo implement this, we start off by instantiating a *MarkerCluster* object and adding all the data points in the dataframe to this object.\n"
      ]
    },
    {
      "cell_type": "code",
      "id": "f5f897d0-8799-4a02-b1d3-bb9dc92b3299",
      "metadata": {},
      "outputs": [],
      "source": [
        "from folium import plugins\n\n# let's start again with a clean copy of the map of USA\nnewyork_map = folium.Map(location=[df_ny['Latitude'], df_ny['Longitude']], zoom_start=4)\n\n# instantiate a mark cluster object for the incidents in the dataframe\nincidents = plugins.MarkerCluster().add_to(newyork_map)\n\n# loop through the dataframe and add each data point to the mark cluster\nfor lat, lng, label, in zip(df_new['Latitude'], df_new['Longitude'], df_new['Count']):\n    folium.Marker(\n        location=[lat, lng],\n        icon=None,\n        popup=label,\n    ).add_to(incidents)\n\n# display map\nnewyork_map"
      ]
    },
    {
      "cell_type": "markdown",
      "id": "fe104e37-7d1f-43cd-89b3-1a19c282d8b7",
      "metadata": {},
      "outputs": [],
      "source": [
        "Notice how when you zoom out all the way, all markers are grouped into one cluster, *the global cluster*, of 50 markers, which is the total number of the states in the US. Once you start zooming in, the *global cluster* will start breaking up into smaller clusters. Zooming in all the way will result in individual markers.\n"
      ]
    },
    {
      "cell_type": "markdown",
      "id": "448db47c-9716-42b3-900b-8b5d9511d890",
      "metadata": {},
      "outputs": [],
      "source": [
        "# Choropleth Maps <a id=\"8\"></a>\n\nA `Choropleth` map is a thematic map in which areas are shaded or patterned in proportion to the measurement of the statistical variable being displayed on the map, such as population density or per-capita income. The choropleth map provides an easy way to visualize how a measurement varies across a geographic area, or it shows the level of variability within a region. Below is a `Choropleth` map of the US depicting the population by square mile per state.\n\n<img src=\"https://cf-courses-data.s3.us.cloud-object-storage.appdomain.cloud/IBMDeveloperSkillsNetwork-DV0101EN-SkillsNetwork/labs/Module%205/images/2000_census_population_density_map_by_state.png\" width=\"600\"> \n"
      ]
    },
    {
      "cell_type": "markdown",
      "id": "3375d301-d85e-45f7-9d3e-af301d7cd308",
      "metadata": {},
      "outputs": [],
      "source": [
        "Now, let's create our own `Choropleth` map of the world depicting total number of diabetes cases among all of the US States.\n"
      ]
    },
    {
      "cell_type": "markdown",
      "id": "ccb66913-14c9-47e7-b0bb-4332b4a40936",
      "metadata": {},
      "outputs": [],
      "source": [
        "In order to create a `Choropleth` map, we need our GeoJSON. Let's create a world map, centered around [36.130, -96.35] latitude and longitude values, with an initisal zoom level of 3.\n"
      ]
    },
    {
      "cell_type": "code",
      "id": "1bd0ab5b-95d0-453f-9703-5a6c0d7a38fa",
      "metadata": {},
      "outputs": [],
      "source": [
        "# create a plain world map\nworld_map = folium.Map(location=[36.130, -96.35], zoom_start=3)"
      ]
    },
    {
      "cell_type": "markdown",
      "id": "b91e5386-732e-4439-a733-6482daee5c92",
      "metadata": {},
      "outputs": [],
      "source": [
        "And now to create a `Choropleth` map, we will use the *choropleth* method with the following main parameters:\n\n1. `geo_data`, which is the GeoJSON file.\n2. `data`, which is the dataframe containing the data.\n3. `columns`, which represents the columns in the dataframe that will be used to create the `Choropleth` map.\n4. `key_on`, which is the key or variable in the GeoJSON file that contains the name of the variable of interest. To determine that, you will need to open the GeoJSON file using any text editor and note the name of the key or variable that contains the name of the states, since the states are our variable of interest. In this case, **NAME** is the key in the GeoJSON file that contains the name of the states. Note that this key is case_sensitive, so you need to pass exactly as it exists in the GeoJSON file.\n"
      ]
    },
    {
      "cell_type": "code",
      "id": "b92dff9c-1d75-48f2-840b-8458edf19a1d",
      "metadata": {},
      "outputs": [],
      "source": [
        "# generate choropleth map using the total number of diabetes cases in the USA\nfolium.Choropleth(\n    geo_data=states,\n    data=df_new,\n    columns=['State', 'Count'],\n    key_on='feature.properties.NAME',\n    fill_color='YlOrRd', \n    fill_opacity=0.7, \n    line_opacity=0.2,\n    legend_name='Number of diabetes cases in the USA',\n).add_to(world_map)\n\n# display map\nworld_map"
      ]
    },
    {
      "cell_type": "markdown",
      "id": "3fb3cdd4-9aea-4a84-bea7-9ed236959e5b",
      "metadata": {},
      "outputs": [],
      "source": [
        "As per our `Choropleth` map legend, the darker the color of a state and the closer the color to red, the higher the percentage of people with diabetes in that state. As we remember, we added states randomly, so every time you rerun the entire code, the output will be not the same.\n"
      ]
    },
    {
      "cell_type": "markdown",
      "id": "3d4d68c2-46ae-4f83-aba0-2037ccf251a0",
      "metadata": {},
      "outputs": [],
      "source": [
        "**Question**: Create a map of average time in hospital of people with diabetes in the USA using Choropleth.\n"
      ]
    },
    {
      "cell_type": "code",
      "id": "3679c731-97ba-4837-92ba-382598ff3896",
      "metadata": {},
      "outputs": [],
      "source": [
        "### type your answer here"
      ]
    },
    {
      "cell_type": "markdown",
      "id": "d5f716c5-568a-4f5e-b4bb-a5f40cff6173",
      "metadata": {},
      "outputs": [],
      "source": [
        "<details><summary>Click here for a sample python solution</summary>\n\n```python\n#The correct answer is:\n# Create new dataframe with state and time in hospital columns\ndf_hosp_time = df[['State', 'Time In Hospital']]\n\n# Group the data by state and get the mean of time in hospital\ndf_hosp_time = df_hosp_time.groupby('State').mean().reset_index()\n\n# let Folium determine the scale.\nworld_map = folium.Map(location=[0, 0], zoom_start=2)\nfolium.Choropleth(\n    geo_data=states,\n    data=df_hosp_time,\n    columns=['State', 'Time In Hospital'],\n    key_on='feature.properties.NAME',\n    fill_color='YlOrRd', \n    fill_opacity=0.7, \n    line_opacity=0.2,\n    legend_name='Average time in hospital of people with diabetes in the USA',\n    reset=True\n).add_to(world_map)\nworld_map\n```\n\n</details>\n"
      ]
    },
    {
      "cell_type": "markdown",
      "id": "619473cc-b707-4720-9d2d-41d8282b1a52",
      "metadata": {},
      "outputs": [],
      "source": [
        "Feel free to play around with the data and perhaps create `Choropleth` maps for individuals ages, or perhaps races, and see how they compare with the variations of da\n"
      ]
    },
    {
      "cell_type": "markdown",
      "id": "9bf8a8cd-f76f-4650-a1e9-01006b24e2dc",
      "metadata": {},
      "outputs": [],
      "source": [
        "## Conclusions\n\nIn summary, leveraging tools such as Folium for geospatial data visualization presents significant potential in the healthcare sector, especially in visualizing diabetes in the USA. Through the conversion of intricate datasets into interactive maps, healthcare practitioners can glean crucial insights into geographic patterns and discrepancies in diabetes distribution. This equips them to make educated choices, efficiently distribute resources, and execute precise interventions aimed at enhancing diabetes wellness on a global scale.\n"
      ]
    },
    {
      "cell_type": "markdown",
      "id": "0ad0a5fc-7c80-421f-b23b-4a528c0621c9",
      "metadata": {},
      "outputs": [],
      "source": [
        "### Thank you for completing this lab!\n\n## Author\n\n<a href=\"https://author.skills.network/instructors/bohdan_kuno\">Bohdan Kuno</a>\n\n### Other Contributors\n\n<a href=\"https://author.skills.network/instructors/yaroslav_vyklyuk_2\">Prof. Yaroslav Vyklyuk, DrSc, PhD</a>\n\n<a href=\"https://author.skills.network/instructors/nataliya_boyko\">Ass. Prof. Nataliya Boyko, PhD</a>\n\n## Change Log\n\n| Date (YYYY-MM-DD) | Version | Changed By | Change Description                                         |\n| ----------------- | ------- | ---------- | ---------------------------------------------------------- |\n|2023-12-18|01|Bohdan Kuno|Lab created|\n\n\n<hr>\n\n## <h3 align=\"center\"> © IBM Corporation 2023. All rights reserved. <h3/>\n"
      ]
    }
  ],
  "metadata": {
    "kernelspec": {
      "display_name": "Python",
      "language": "python",
      "name": "conda-env-python-py"
    },
    "language_info": {
      "codemirror_mode": {
        "name": "ipython",
        "version": 3
      },
      "file_extension": ".py",
      "mimetype": "text/x-python",
      "name": "python",
      "nbconvert_exporter": "python",
      "pygments_lexer": "ipython3",
      "version": "3.7.12"
    }
  },
  "nbformat": 4,
  "nbformat_minor": 5
}
