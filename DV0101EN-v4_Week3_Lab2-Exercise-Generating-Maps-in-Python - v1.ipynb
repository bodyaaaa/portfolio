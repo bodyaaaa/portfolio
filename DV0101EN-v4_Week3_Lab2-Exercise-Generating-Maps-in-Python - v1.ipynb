{
  "cells": [
    {
      "cell_type": "markdown",
      "id": "3cb6cb53-b60c-42ed-ab4e-45a4785fc24f",
      "metadata": {},
      "outputs": [],
      "source": [
        "\n\n<p style=\"text-align:center\">\n    <a href=\"https://skills.network\" target=\"_blank\">\n    <img src=\"https://cf-courses-data.s3.us.cloud-object-storage.appdomain.cloud/assets/logos/SN_web_lightmode.png\" width=\"200\" alt=\"Skills Network Logo\">\n    </a>\n</p>\n\n\n# Creating maps and visualizing Geospatial data\n\n## Abstract\nIn this lab, you'll delve into geospatial data visualization techniques using tools like Folium and Matplotlib. You'll harness the power of these technologies to create maps that uncover insights into healthcare trends, focusing specifically on diabetes data. Through interactive activities, you'll generate visual displays that unveil geographical intricacies related to diabetes prevalence.\n\nEstimated time needed: **30** minutes\n    \n\n## Objectives\n\nAfter completing this lab you will be able to:\n\n* Create maps and visualize geospatial data with Folium\n"
      ]
    },
    {
      "cell_type": "markdown",
      "id": "8a924850-8889-465a-af0c-53ac2facd058",
      "metadata": {},
      "outputs": [],
      "source": [
        "## Introduction\n\nIn this lab, we will learn how to create maps for different objectives. To do that, we will part ways with Matplotlib and work with another Python visualization library, namely **Folium**. What is nice about **Folium** is that it was developed for the sole purpose of visualizing geospatial data. While other libraries are available to visualize geospatial data, such as **plotly**, they might have a cap on how many API calls you can make within a defined time frame. **Folium**, on the other hand, is completely free.\n"
      ]
    },
    {
      "cell_type": "markdown",
      "id": "8167fad0-39ee-494f-ace7-999a7d3db5dd",
      "metadata": {},
      "outputs": [],
      "source": [
        "## Table of Contents\n\n<div class=\"alert alert-block alert-info\" style=\"margin-top: 20px\">\n\n1. [Exploring Datasets*](#0)<br>\n2. [Importing Libraries](#2)<br>\n3. [Introduction to Folium](#4) <br>\n4. [Generating additional data](#3) <br>\n5. [Map with Markers](#6) <br>\n6. [Choropleth Maps](#8) <br>\n</div>\n"
      ]
    },
    {
      "cell_type": "markdown",
      "id": "a2800f95-207c-4ed3-8fac-a3bd28e1329a",
      "metadata": {},
      "outputs": [],
      "source": [
        "# Exploring Datasets<a id=\"0\"></a>\n\nToolkits: This lab heavily relies on [*pandas*](http://pandas.pydata.org/) and [*Numpy*](http://www.numpy.org/) for data wrangling, analysis, and visualization. The primary plotting library we will explore in this lab is [**Folium**](https://github.com/python-visualization/folium/).\n\n## The Dataset: Diabetes 130 US hospitals for years 1999-2008<a id=\"1\"></a>\n<p>\nThere are various formats for a dataset: .csv, .json, .xlsx  etc. The dataset can be stored in different places, on your local machine or sometimes online.<br>\n\nIn this section, you will learn how to load a dataset into our Jupyter Notebook.<br>\n\nIn our case, the Diabetes Dataset is an online source, and it is in a CSV (comma separated value) format. Let's use this dataset as an example to practice data reading.\n\n<ul>\n    <li>Data source: <a href=\"https://www.kaggle.com/datasets/brandao/diabetes\" target=\"_blank\">https://www.kaggle.com/datasets/brandao/diabetes</a></li>\n    <li>Data type: csv</li>\n</ul>\n\nThe statistical data obtained from https://www.kaggle.com/datasets/brandao/diabetes under [CC0: Public Domain](https://creativecommons.org/publicdomain/zero/1.0/) license.\n\nDataset output column is \"Readmitted\" with values \"<30\",\">30\",\"NO\". The rest of the columns (44) are input columns.\n\nThe Pandas Library is a useful tool that enables us to read various datasets into a dataframe; our Jupyter notebook platforms have a built-in <b>Pandas Library</b> so that all we need to do is import Pandas without installing.\n\nWe have already **pre-processed** the data, we will use the **clean data** saved in the csv format for this lab. The original Diabetes dataset can be fetched from [here](https://cf-courses-data.s3.us.cloud-object-storage.appdomain.cloud/IBMSkillsNetwork-GPXX0IT0EN/diabetic_data.csv).\n</p>\n\n<details><summary>DataSet structure</summary>\nColumn names:\n    \n1. `Race` - Race. Values: Caucasian, Asian, African American, Hispanic, and other\n2. `Gender` - Gender. Values: male, female, and unknown/invalid \n3. `Age` - Age grouped in 10-year intervals: [0, 10), [10, 20), ..., [90, 100)\n4. `Weight` - Weight in pounds \n5. `Time In Hospital` - Integer number of days between admission and discharge\n6. `Medical Specialty` - Integer identifier of a specialty of the admitting physician, corresponding to 84 distinct values \n7. `Num Lab Procedures` - Number of lab tests performed during the encounter \n8. `Num Procedures` - Number of procedures (other than lab tests) performed during the encounter \n9. `Num Medications` - Number of distinct generic names administered during the encounter \n10. `Number Outpatient` - Number of outpatient visits of the patient in the year preceding the encounter \n11. `Number Emergency` - Number of emergency visits of the patient in the year preceding the encounter \n12. `Number Inpatient` - Number of inpatient visits of the patient in the year preceding the encounter \n13. `Diagnosis1` - The primary diagnosis (coded as first three digits of ICD9); 848 distinct values\n14. `Diagnosis2` - Secondary diagnosis (coded as first three digits of ICD9); 923 distinct values\n15. `Diagnosis3` - Additional secondary diagnosis (coded as first three digits of ICD9); 954 distinct values\n16. `Number Diagnoses` - Number of diagnoses entered into the system \n17. `Max Glu Serum` - Indicates the range of the result or if the test was not taken. Values: >200, >300, normal, none if not measured\n18. `A1c Result` - Indicates the range of the result or if the test was not taken. Values: >8, >7, normal, none if not measured\n19. `Metformin` - Indicates whether the drug was prescribed or there was a change in the dosage \n20. `Repaglinide` - Indicates whether the drug was prescribed or there was a change in the dosage \n21. `Nateglinide` - Indicates whether the drug was prescribed or there was a change in the dosage \n22. `Chlorpropamide` - Indicates whether the drug was prescribed or there was a change in the dosage \n23. `Glimepiride` - Indicates whether the drug was prescribed or there was a change in the dosage\n24. `Acetohexamide` - Indicates whether the drug was prescribed or there was a change in the dosage \n25. `Glipizide` - Indicates whether the drug was prescribed or there was a change in the dosage \n26. `Glyburide` - Indicates whether the drug was prescribed or there was a change in the dosage \n27. `Tolbutamide` - Indicates whether the drug was prescribed or there was a change in the dosage \n28. `Pioglitazone` - Indicates whether the drug was prescribed or there was a change in the dosage \n29. `Rosiglitazone` - Indicates whether the drug was prescribed or there was a change in the dosage \n30. `Acarbose` - Indicates whether the drug was prescribed or there was a change in the dosage \n31. `Miglitol` - Indicates whether the drug was prescribed or there was a change in the dosage \n32. `Troglitazone` - Indicates whether the drug was prescribed or there was a change in the dosage \n33. `Tolazamide` - Indicates whether the drug was prescribed or there was a change in the dosage \n34. `Examide` - Indicates whether the drug was prescribed or there was a change in the dosage \n35. `Citoglipton` - Indicates whether the drug was prescribed or there was a change in the dosage \n36. `Insulin` - Indicates whether the drug was prescribed or there was a change in the dosage \n37. `Glyburide-metformin` - Indicates whether the drug was prescribed or there was a change in the dosage \n38. `Glipizide-metformin` - Indicates whether the drug was prescribed or there was a change in the dosage \n39. `Glimepiride-pioglitazone` - Indicates whether the drug was prescribed or there was a change in the dosage \n40. `Metformin-rosiglitazone` - Indicates whether the drug was prescribed or there was a change in the dosage \n41. `Metformin-pioglitazone` - Indicates whether the drug was prescribed or there was a change in the dosage \n42. `Change` - Indicates if there was a change in diabetic medications (either dosage or generic name)\n43. `Diabetes Medication` - Indicates if there was any diabetic medication prescribed\n44. **`Readmitted`** - Days to inpatient readmission. Values: <30, >30, No for no record of readmission\n</details>\n"
      ]
    },
    {
      "cell_type": "markdown",
      "id": "72ec6a00-fd90-4e1b-88bb-1968ab0a1822",
      "metadata": {},
      "outputs": [],
      "source": [
        "# Importing Libraries <a id=\"2\"></a>\n"
      ]
    },
    {
      "cell_type": "markdown",
      "id": "4c6e24e0-6fb2-49b2-98c5-3c6ad3da3573",
      "metadata": {},
      "outputs": [],
      "source": [
        "Import Primary Modules:\n"
      ]
    },
    {
      "cell_type": "code",
      "id": "a8f0b5af-186e-4d76-962f-195ee82256de",
      "metadata": {},
      "outputs": [],
      "source": [
        "import numpy as np  # useful for many scientific computing in Python\nimport pandas as pd # primary data structure library"
      ]
    },
    {
      "cell_type": "markdown",
      "id": "58e90183-fbdc-4819-b5b9-bca68772d9ec",
      "metadata": {},
      "outputs": [],
      "source": [
        "#### Let's install **Folium**\n"
      ]
    },
    {
      "cell_type": "markdown",
      "id": "659ea025-d01d-4b73-9edb-f43a2da79305",
      "metadata": {},
      "outputs": [],
      "source": [
        "**Folium** is not available by default. So, we first need to install it before we are able to import it.\n"
      ]
    },
    {
      "cell_type": "code",
      "id": "bfeaab69-c9cf-409b-ac54-71a070b503b6",
      "metadata": {},
      "outputs": [],
      "source": [
        "!pip install folium==0.14.0"
      ]
    },
    {
      "cell_type": "markdown",
      "id": "e5b37c79-efd8-480f-b748-d06970b99462",
      "metadata": {},
      "outputs": [],
      "source": [
        "Also we need to install `geopandas` package\n"
      ]
    },
    {
      "cell_type": "code",
      "id": "2819ba47-d0fb-489e-aff3-954fd152c8ba",
      "metadata": {},
      "outputs": [],
      "source": [
        "!pip install geopandas"
      ]
    },
    {
      "cell_type": "markdown",
      "id": "3236d22b-16ee-4164-9e5a-927f18d87428",
      "metadata": {},
      "outputs": [],
      "source": [
        "**GeoPandas** is an open-source Python library that extends the capabilities of pandas, a popular data manipulation library, by adding geospatial operations and data types. It enables you to work with geospatial data within a DataFrame-like structure, combining the functionality of pandas with the ability to handle geometric objects.\n\nKey features of GeoPandas include:\n\n> Geometric operations: GeoPandas allows you to perform various geometric operations on geometric objects, such as points, lines, and polygons. This includes operations like intersection, union, buffer, distance calculation, and more.\n\n> Data structures: GeoPandas introduces two main data structures: GeoSeries and GeoDataFrame. These structures are similar to pandas Series and DataFrame but are specifically designed to handle geometric data. GeoSeries holds a collection of geometric objects, while GeoDataFrame is a tabular data structure that contains a GeoSeries along with other columns of data.\n\n> Integration with spatial data formats: It supports reading and writing data in various geospatial file formats, such as GeoJSON, ESRI Shapefiles, and more. This makes it easy to import and export geospatial data.\n\n> Visualization: GeoPandas provides visualization capabilities, allowing you to create maps and plots directly from GeoDataFrames. It integrates well with libraries like Matplotlib for plotting and visualizing geospatial data.\n\nGeoPandas simplifies geospatial data manipulation and analysis by leveraging the power of pandas and providing an interface for handling geographic data seamlessly within the Python ecosystem.\n"
      ]
    },
    {
      "cell_type": "code",
      "id": "69175c0e-a909-4f28-a897-1c88f52ad3c0",
      "metadata": {},
      "outputs": [],
      "source": [
        "import folium\nimport geopandas as gpd\n\nprint('All libraries are installed and imported!')"
      ]
    },
    {
      "cell_type": "markdown",
      "id": "bc49aa18-d882-496f-b868-08ef9b1433c4",
      "metadata": {},
      "outputs": [],
      "source": [
        "# Introduction to Folium <a id=\"4\"></a>\n"
      ]
    },
    {
      "cell_type": "markdown",
      "id": "c4931595-bed2-4f64-a07d-1556cbef90c7",
      "metadata": {},
      "outputs": [],
      "source": [
        "Folium is a powerful Python library that helps you create several types of Leaflet maps. The fact that the Folium results are interactive makes this library very useful for dashboard building.\n\nFrom the official Folium documentation page:\n\n> Folium builds on the data wrangling strengths of the Python ecosystem and the mapping strengths of the Leaflet.js library. Manipulate your data in Python, then visualize it in on a Leaflet map via Folium.\n\n> Folium makes it easy to visualize data that's been manipulated in Python on an interactive Leaflet map. It enables both the binding of data to a map for choropleth visualizations as well as passing Vincent/Vega visualizations as markers on the map.\n\n> The library has a number of built-in tilesets from OpenStreetMap, Mapbox, CartoDB, and Stamen, and supports custom tilesets with Mapbox or Cloudmade API keys. Folium supports both GeoJSON and TopoJSON overlays, as well as the binding of data to those overlays to create choropleth maps with color-brewer color schemes.\n"
      ]
    },
    {
      "cell_type": "markdown",
      "id": "9d66401d-667e-45e1-9f14-5bb192e81e92",
      "metadata": {},
      "outputs": [],
      "source": [
        "Generating the world map is straightforward in **Folium**. You simply create a **Folium** *Map* object, and then you display it. What is attractive about **Folium** maps is that they are interactive, so you can zoom into any region of interest despite the initial zoom level.\n"
      ]
    },
    {
      "cell_type": "code",
      "id": "4765217b-4675-4626-9725-ca7f8f98a997",
      "metadata": {},
      "outputs": [],
      "source": [
        "# define the world map\nworld_map = folium.Map()\n\n# display world map\nworld_map"
      ]
    },
    {
      "cell_type": "markdown",
      "id": "905311c3-0c0e-4a3f-8a96-13f31bf407c5",
      "metadata": {},
      "outputs": [],
      "source": [
        "Go ahead. Try zooming in and out of the rendered map above.\n"
      ]
    },
    {
      "cell_type": "markdown",
      "id": "5a64c4bd-269a-47d0-99bb-4d9f33ae8262",
      "metadata": {},
      "outputs": [],
      "source": [
        "You can customize this default definition of the world map by specifying the centre of your map, and the initial zoom level.\n\nAll locations on a map are defined by their respective *Latitude* and *Longitude* values. So you can create a map and pass in a center of *Latitude* and *Longitude* values of **[0, 0]**. \n\nFor a defined center, you can also define the initial zoom level into that location when the map is rendered. **The higher the zoom level the more the map is zoomed into the center**.\n\nLet's create a map centered around the United States and play with the zoom level to see how it affects the rendered map.\n"
      ]
    },
    {
      "cell_type": "code",
      "id": "5658bef8-7cda-4671-b69a-ac6c249b3dbf",
      "metadata": {},
      "outputs": [],
      "source": [
        "# define the world map centered around USA with a low zoom level\nworld_map = folium.Map(location=[36.130, -96.35], zoom_start=4)\n\n# display world map\nworld_map"
      ]
    },
    {
      "cell_type": "markdown",
      "id": "568819a8-7d57-44a5-8e3e-e307f45074b3",
      "metadata": {},
      "outputs": [],
      "source": [
        "Let's create the map again with a higher zoom level.\n"
      ]
    },
    {
      "cell_type": "code",
      "id": "fcfb66de-7053-483d-8355-4a8303bc9c02",
      "metadata": {},
      "outputs": [],
      "source": [
        "# define the world map centered around USA with a higher zoom level\nworld_map = folium.Map(location=[36.130, -96.35], zoom_start=8)\n\n# display world map\nworld_map"
      ]
    },
    {
      "cell_type": "markdown",
      "id": "ca3836f3-f14f-4183-bb48-17a35a35a1ad",
      "metadata": {},
      "outputs": [],
      "source": [
        "As you can see, the higher the zoom level the more the map is zoomed into the given center.\n"
      ]
    },
    {
      "cell_type": "markdown",
      "id": "7ab7fdae-ef08-4715-9003-c8dfa0dda77f",
      "metadata": {},
      "outputs": [],
      "source": [
        "**Question**: Create a map of Mexico with a zoom level of 5.\n"
      ]
    },
    {
      "cell_type": "code",
      "id": "d5d4e805-9fea-4bea-8596-0fd6ce1bf10a",
      "metadata": {},
      "outputs": [],
      "source": [
        "### type your answer here"
      ]
    },
    {
      "cell_type": "markdown",
      "id": "f42789e2-c334-4bfa-abe4-4f0dd25e89cc",
      "metadata": {},
      "outputs": [],
      "source": [
        "<details><summary>Click here for a sample python solution</summary>\n\n```python\n#The correct answer is:\n#define Mexico's geolocation coordinates\nmexico_latitude = 23.6345 \nmexico_longitude = -102.5528\n\n# define the world map centered around Mexico with a higher zoom level\nmexico_map = folium.Map(location=[mexico_latitude, mexico_longitude], zoom_start=5)\n\n# display world map\nmexico_map\n```\n\n</details>\n"
      ]
    },
    {
      "cell_type": "markdown",
      "id": "0b7d385a-5556-440f-81df-771631747ef3",
      "metadata": {},
      "outputs": [],
      "source": [
        "Another cool feature of **Folium** is that you can generate different map styles.\n"
      ]
    },
    {
      "cell_type": "markdown",
      "id": "88cb8ea1-57eb-4633-994e-9e7587a99bd3",
      "metadata": {},
      "outputs": [],
      "source": [
        "### CartoDB Dark Matter\n\nCartoDB's Dark Matter basemap is a style designed for visualization purposes. It offers a dark-themed map that's particularly useful for highlighting data with vibrant colors or for emphasizing specific geographic patterns. \n"
      ]
    },
    {
      "cell_type": "markdown",
      "id": "35a26b9a-6d3e-48d7-b105-13bc08e1ab61",
      "metadata": {},
      "outputs": [],
      "source": [
        "Let's create a CartoDB dark matter map of the United States with a zoom level of 4.\n"
      ]
    },
    {
      "cell_type": "code",
      "id": "19bfd847-0e09-40a4-99ed-34b73ddc426a",
      "metadata": {},
      "outputs": [],
      "source": [
        "# create a CartoDB dark matter map of the world centered around USA\nworld_map = folium.Map(location=[36.130, -96.35], zoom_start=4, tiles='CartoDB dark_matter')\n\n# display map\nworld_map"
      ]
    },
    {
      "cell_type": "markdown",
      "id": "9fc14daf-2ad8-48ed-9b69-9b78bdff7919",
      "metadata": {},
      "outputs": [],
      "source": [
        "Feel free to zoom in and out to see how this style compares to the default one.\n"
      ]
    },
    {
      "cell_type": "markdown",
      "id": "c7d9f627-5714-48f0-8e6d-00c76269c5e5",
      "metadata": {},
      "outputs": [],
      "source": [
        "### CartoDB Positron\n\nCartoDB Positron is another basemap offered by CartoDB, and it's essentially the opposite of Dark Matter in terms of visual style. While Dark Matter provides a dark and dramatic background, Positron offers a clean, minimalistic, and light-themed basemap.\n"
      ]
    },
    {
      "cell_type": "markdown",
      "id": "dec569e1-7305-4aa4-b4a7-08c703d56516",
      "metadata": {},
      "outputs": [],
      "source": [
        "Let's create a CartoDB positron map of the United States with zoom level 4.\n"
      ]
    },
    {
      "cell_type": "code",
      "id": "93bafc6a-48d0-44e5-82f1-f56f1ff487d4",
      "metadata": {},
      "outputs": [],
      "source": [
        "# create a CartoDB positron map of the world centered around USA\nworld_map = folium.Map(location=[36.130, -96.35], zoom_start=4, tiles='CartoDB positron')\n\n# display map\nworld_map"
      ]
    },
    {
      "cell_type": "markdown",
      "id": "66e108ca-321b-440f-bf94-86c90b6548c0",
      "metadata": {},
      "outputs": [],
      "source": [
        "Feel free to zoom in and out to see how this style compares to CartoDB dark matter, and the default style.\n"
      ]
    },
    {
      "cell_type": "markdown",
      "id": "2dd4e02f-dda0-45c0-b21e-5e88ad6c1380",
      "metadata": {},
      "outputs": [],
      "source": [
        "Zoom in and notice outlines or representations of buildings and other structures, especially in urban areas.\n"
      ]
    },
    {
      "cell_type": "markdown",
      "id": "5929f63b-11d4-46a4-b4dd-a02caf4806a1",
      "metadata": {},
      "outputs": [],
      "source": [
        "**Question**: Create a light-themed map of Mexico. Use a zoom level of 6.\n"
      ]
    },
    {
      "cell_type": "code",
      "id": "ba7c4d16-ed2b-4c47-9faf-5706292f24ee",
      "metadata": {},
      "outputs": [],
      "source": [
        "### type your answer here"
      ]
    },
    {
      "cell_type": "markdown",
      "id": "3fd71ab2-e390-4375-9805-7f46106065b2",
      "metadata": {},
      "outputs": [],
      "source": [
        "<details><summary>Click here for a sample python solution</summary>\n\n```python\n#The correct answer is:\n#define Mexico's geolocation coordinates\nmexico_latitude = 23.6345 \nmexico_longitude = -102.5528\n\n# define the world map centered around Mexico with a higher zoom level\nmexico_map = folium.Map(location=[mexico_latitude, mexico_longitude], zoom_start=6, tiles='CartoDB positron')\n\n# display world map\nmexico_map\n```\n\n</details>\n"
      ]
    },
    {
      "cell_type": "markdown",
      "id": "335c4d8a-8d8e-4154-9bb3-70d4dda9aaa6",
      "metadata": {},
      "outputs": [],
      "source": [
        "# Generating additional data <a id=\"3\"></a>\n"
      ]
    },
    {
      "cell_type": "markdown",
      "id": "41fc0586-ec45-4d0a-a46a-77f8767b5441",
      "metadata": {},
      "outputs": [],
      "source": [
        "Let's download and import the diabetes data using *pandas* `read_csv()` method.\n"
      ]
    },
    {
      "cell_type": "markdown",
      "id": "8652b081-377f-4635-a90c-ee4c8b6a0728",
      "metadata": {},
      "outputs": [],
      "source": [
        "Download the dataset and read it into a *pandas* dataframe:\n"
      ]
    },
    {
      "cell_type": "code",
      "id": "1352c926-fd64-4f56-a7e8-b1a428994545",
      "metadata": {},
      "outputs": [],
      "source": [
        "df = pd.read_csv('https://cf-courses-data.s3.us.cloud-object-storage.appdomain.cloud/IBMSkillsNetwork-GPXX0B0GEN/diabetes_new.csv')\n\nprint('Dataset downloaded and read into a pandas dataframe!')"
      ]
    },
    {
      "cell_type": "markdown",
      "id": "f8263123-0e73-40ea-aed4-dbc26439ceea",
      "metadata": {},
      "outputs": [],
      "source": [
        "Let's take a look at the dataset.\n"
      ]
    },
    {
      "cell_type": "code",
      "id": "17df89f6-69ee-4ce0-9bb9-e8b498f3eab5",
      "metadata": {},
      "outputs": [],
      "source": [
        "df.head()"
      ]
    },
    {
      "cell_type": "markdown",
      "id": "77636932-161e-436c-9323-82f64c316343",
      "metadata": {},
      "outputs": [],
      "source": [
        "We need to generate column including random US states for you, so that you can create a Choropleth maps and markers. We will use `numpy.random.choice()` to add random state to existing data of patients in the dataframe.\n"
      ]
    },
    {
      "cell_type": "code",
      "id": "de8f3fe6-6fd0-492d-83f5-6028dc92253e",
      "metadata": {},
      "outputs": [],
      "source": [
        "# List of US states\nus_states = ['Alabama', 'Alaska', 'Arizona', 'Arkansas', 'California', 'Colorado', 'Connecticut', 'Delaware', 'Florida', 'Georgia',\n             'Hawaii', 'Idaho', 'Illinois', 'Indiana', 'Iowa', 'Kansas', 'Kentucky', 'Louisiana', 'Maine', 'Maryland',\n             'Massachusetts', 'Michigan', 'Minnesota', 'Mississippi', 'Missouri', 'Montana', 'Nebraska', 'Nevada', 'New Hampshire',\n             'New Jersey', 'New Mexico', 'New York', 'North Carolina', 'North Dakota', 'Ohio', 'Oklahoma', 'Oregon', 'Pennsylvania',\n             'Rhode Island', 'South Carolina', 'South Dakota', 'Tennessee', 'Texas', 'Utah', 'Vermont', 'Virginia', 'Washington',\n             'West Virginia', 'Wisconsin', 'Wyoming']\n\n# Add a new column with random US states\ngenerated_states = np.random.choice(us_states, df.shape[0])\n\ndf['State'] = generated_states\n\ndf.head()"
      ]
    },
    {
      "cell_type": "markdown",
      "id": "1bc846b7-c8de-4067-89eb-624b7ffa464e",
      "metadata": {},
      "outputs": [],
      "source": [
        "Now we can aggregate the count of diabetes cases for each US State in the 'State' column of the DataFrame df and present a new DataFrame `df_num_cases` that shows the count of diabetes cases for each US State in the dataset.\n"
      ]
    },
    {
      "cell_type": "code",
      "id": "6bdb107e-f902-483a-8f3b-841069af605c",
      "metadata": {},
      "outputs": [],
      "source": [
        "# Create new dataframe with state column\ndf_num_cases = pd.DataFrame(df['State'])\n\n# Add count column to sum up the cases of diabetes\ndf_num_cases['Count'] = 1\n\n# Group the data by state and get number of cases for each state\ndf_num_cases = df_num_cases.groupby('State').sum().reset_index()\n\n# Show the result\ndf_num_cases.head()"
      ]
    },
    {
      "cell_type": "markdown",
      "id": "98f26d2c-79a0-4f70-b2bd-9a7b74e72379",
      "metadata": {},
      "outputs": [],
      "source": [
        "Much better! But there is something we are missing. To visualize geographic points, we need to have latitude and longitude. To do this, we will download a geojson file containing polygons of the US states and use the `geopandas` library to find the coordinates of each state.\n"
      ]
    },
    {
      "cell_type": "markdown",
      "id": "6bc569af-aae5-4542-b437-363208d867da",
      "metadata": {},
      "outputs": [],
      "source": [
        "We're in need of a GeoJSON file that outlines the boundaries of specific US states, counties, or the entire country. Since we're focused on creating a map of the United States, we'll require a GeoJSON file defining the boundaries of all US states. We'll provide this file for you, so let's proceed with the download. Let's name it `states` for easy reference.\n\nGeoJSON file source: [US States](https://exploratory.io/map) under MIT License.\n"
      ]
    },
    {
      "cell_type": "code",
      "id": "f3e8b22f-3a2f-416d-8b3c-fe5ead8ed249",
      "metadata": {},
      "outputs": [],
      "source": [
        "states = gpd.read_file('https://cf-courses-data.s3.us.cloud-object-storage.appdomain.cloud/IBMSkillsNetwork-GPXX0B0GEN/states.geojson')"
      ]
    },
    {
      "cell_type": "markdown",
      "id": "72b20602-8a5a-4706-baf3-1ba4e0ffe6f8",
      "metadata": {},
      "outputs": [],
      "source": [
        "Now using `geopandas` and `centroid` method let's find coordinates of each state's center and create a DataFrame (`df_states`) containing columns for state names, longitude, and latitude extracted from the GeoJSON file.\n"
      ]
    },
    {
      "cell_type": "code",
      "id": "0984034e-5a4b-4d3c-9ef6-26d5d011e932",
      "metadata": {},
      "outputs": [],
      "source": [
        "states_data = []\nfor index, row in states.iterrows():\n    state_name = row['NAME']\n    geometry = row['geometry']\n    centroid = geometry.centroid\n    longitude = centroid.x\n    latitude = centroid.y\n    states_data.append({\n        'State': state_name,\n        'Longitude': longitude,\n        'Latitude': latitude\n    })\n\n# Create a DataFrame from the extracted data\ndf_states = pd.DataFrame(states_data)\n\n# Display the DataFrame with state names, longitude, and latitude\ndf_states.head()"
      ]
    },
    {
      "cell_type": "markdown",
      "id": "4dceba69-0e54-4207-89f8-32ee6a85b20d",
      "metadata": {},
      "outputs": [],
      "source": [
        "Now we will create merged dataframe called `df_new` using `pd.merge(`) function which contains columns from both `df_num_cases` and `df_states` DataFrames matched by the 'State' column. Rows will be aligned based on the 'State' column values. Also we will drop missing values using `dropna()` function.\n"
      ]
    },
    {
      "cell_type": "code",
      "id": "dd301c92-dcd8-4405-a0c5-8713d5f3c924",
      "metadata": {},
      "outputs": [],
      "source": [
        "df_new = pd.merge(df_num_cases, df_states, on='State', how='left').dropna()\ndf_new.head()"
      ]
    },
    {
      "cell_type": "markdown",
      "id": "84f5e460-0539-4c49-baee-48b021a0c34d",
      "metadata": {},
      "outputs": [],
      "source": [
        "Now we are ready to start generate markers and Chloropleth maps.\n"
      ]
    },
    {
      "cell_type": "markdown",
      "id": "53672d84-915b-4273-8c3f-cca5f87c88b4",
      "metadata": {},
      "outputs": [],
      "source": [
        "# Maps with Markers <a id=\"6\"></a>\n"
      ]
    },
    {
      "cell_type": "markdown",
      "id": "f2836aeb-8d8a-4574-abf4-30e41df5b57d",
      "metadata": {},
      "outputs": [],
      "source": [
        "Now we need to visualize the coordinates we just obtained. Let's visualize where the shares of the disease in each state. Let's start with New York. We will use the default style, and we will initialize the zoom level to 7.\n"
      ]
    },
    {
      "cell_type": "code",
      "id": "fdd4cd8b-bdbc-490a-8cac-9f625d847063",
      "metadata": {},
      "outputs": [],
      "source": [
        "# New York\ndf_ny = df_new[(df_new['State'] == 'New York')]\ndf_ny"
      ]
    },
    {
      "cell_type": "code",
      "id": "2fcbe9d9-f612-4bcd-b511-d74695ef54b7",
      "metadata": {},
      "outputs": [],
      "source": [
        "# create map and display it\nnewyork_map = folium.Map(location=[df_ny['Latitude'], df_ny['Longitude']], zoom_start=7)\n\n# display the map of New York\nnewyork_map"
      ]
    },
    {
      "cell_type": "markdown",
      "id": "afe6964e-1ee0-4bf1-baed-13cf98c7e7d6",
      "metadata": {},
      "outputs": [],
      "source": [
        "Now let's superimpose all the locations of the states onto the map. The way to do that in **Folium** is to create a *feature group* with its own features and style and then add it to the `newyork_map`.\n"
      ]
    },
    {
      "cell_type": "code",
      "id": "a7f8240a-8fe4-4c2e-a9ca-0c5cc00026dd",
      "metadata": {},
      "outputs": [],
      "source": [
        "# instantiate a feature group for the incidents in the dataframe\nincidents = folium.map.FeatureGroup()\n\n# loop through the all states and add each to the incidents feature group\nfor lat, lng, in zip(df_new['Latitude'], df_new['Longitude']):\n    incidents.add_child(\n        folium.vector_layers.CircleMarker(\n            [lat, lng],\n            radius=10, # define how big you want the circle markers to be\n            color='yellow',\n            fill=True,\n            fill_color='blue',\n            fill_opacity=0.6\n        )\n    )\n\n# add incidents to map\nnewyork_map.add_child(incidents)"
      ]
    },
    {
      "cell_type": "markdown",
      "id": "b8fa9149-ff25-44ce-acd0-25a8cb5a6c8a",
      "metadata": {},
      "outputs": [],
      "source": [
        "You can also add some pop-up text that would get displayed when you hover over a marker. Let's make each marker display the number of diabetes cases in each state when hovered over.\n"
      ]
    },
    {
      "cell_type": "code",
      "id": "9aa3bbcd-7142-49a8-8e42-139fe986357d",
      "metadata": {},
      "outputs": [],
      "source": [
        "# instantiate a feature group for the incidents in the dataframe\nincidents = folium.map.FeatureGroup()\n\nnewyork_map = folium.Map(location=[df_ny['Latitude'], df_ny['Longitude']], zoom_start=4)\n\n# loop through the all states and add each to the incidents feature group\nfor lat, lng, in zip(df_new['Latitude'], df_new['Longitude']):\n    incidents.add_child(\n        folium.vector_layers.CircleMarker(\n            [lat, lng],\n            radius=5, # define how big you want the circle markers to be\n            color='yellow',\n            fill=True,\n            fill_color='blue',\n            fill_opacity=0.6\n        )\n    )\n\n# add pop-up text to each marker on the map\nlatitudes = list(df_new['Latitude'])\nlongitudes = list(df_new['Longitude'])\nlabels = list(df_new['Count'])\n\nfor lat, lng, label in zip(latitudes, longitudes, labels):\n    folium.Marker([lat, lng], popup=label).add_to(newyork_map)    \n    \n# add incidents to map\nnewyork_map.add_child(incidents)"
      ]
    },
    {
      "cell_type": "markdown",
      "id": "7207aecb-2e9c-4b73-9477-f0aa8f72d515",
      "metadata": {},
      "outputs": [],
      "source": [
        "Isn't this really cool? Now you are able to know the share of people with diabetes occurred at each marker.\n\nIf you find the map to be so congested will all these markers, there are two remedies to this problem. The simpler solution is to remove these location markers and just add the text to the circle markers themselves as follows:\n"
      ]
    },
    {
      "cell_type": "code",
      "id": "f90a5831-0924-4696-9354-447aeba803fd",
      "metadata": {},
      "outputs": [],
      "source": [
        "# create map and display it\nnewyork_map = folium.Map(location=[df_ny['Latitude'], df_ny['Longitude']], zoom_start=4)\n\n# loop through the all states and add each to the map\nfor lat, lng, label in zip(df_new['Latitude'], df_new['Longitude'], df_new['Count']):\n    folium.vector_layers.CircleMarker(\n        [lat, lng],\n        radius=5, # define how big you want the circle markers to be\n        color='yellow',\n        fill=True,\n        popup=label,\n        fill_color='blue',\n        fill_opacity=0.6\n    ).add_to(newyork_map)\n\n# show map\nnewyork_map"
      ]
    },
    {
      "cell_type": "markdown",
      "id": "3aa691e1-981f-4f1f-8ae0-c18f8f1103a3",
      "metadata": {},
      "outputs": [],
      "source": [
        "The other proper remedy is to group the markers into different clusters. Each cluster is then represented by the number of states in each area. You can then analyze these clusters separately.\n\nTo implement this, we start off by instantiating a *MarkerCluster* object and adding all the data points in the dataframe to this object.\n"
      ]
    },
    {
      "cell_type": "code",
      "id": "13ae2213-a682-477e-8e9e-4c6e3136b22c",
      "metadata": {},
      "outputs": [],
      "source": [
        "from folium import plugins\n\n# let's start again with a clean copy of the map of USA\nnewyork_map = folium.Map(location=[df_ny['Latitude'], df_ny['Longitude']], zoom_start=4)\n\n# instantiate a mark cluster object for the incidents in the dataframe\nincidents = plugins.MarkerCluster().add_to(newyork_map)\n\n# loop through the dataframe and add each data point to the mark cluster\nfor lat, lng, label, in zip(df_new['Latitude'], df_new['Longitude'], df_new['Count']):\n    folium.Marker(\n        location=[lat, lng],\n        icon=None,\n        popup=label,\n    ).add_to(incidents)\n\n# display map\nnewyork_map"
      ]
    },
    {
      "cell_type": "markdown",
      "id": "9e3ab7ec-1ce4-4f54-b227-a69c96139339",
      "metadata": {},
      "outputs": [],
      "source": [
        "Notice how when you zoom out all the way, all markers are grouped into one cluster, *the global cluster*, of 50 markers, which is the total number of the states in the US. Once you start zooming in, the *global cluster* will start breaking up into smaller clusters. Zooming in all the way will result in individual markers.\n"
      ]
    },
    {
      "cell_type": "markdown",
      "id": "bfe69e70-cdaf-46c4-9000-cf3f15032e79",
      "metadata": {},
      "outputs": [],
      "source": [
        "# Choropleth Maps <a id=\"8\"></a>\n\nA `Choropleth` map is a thematic map in which areas are shaded or patterned in proportion to the measurement of the statistical variable being displayed on the map, such as population density or per-capita income. The choropleth map provides an easy way to visualize how a measurement varies across a geographic area, or it shows the level of variability within a region. Below is a `Choropleth` map of the US depicting the population by square mile per state.\n\n<img src=\"https://cf-courses-data.s3.us.cloud-object-storage.appdomain.cloud/IBMDeveloperSkillsNetwork-DV0101EN-SkillsNetwork/labs/Module%205/images/2000_census_population_density_map_by_state.png\" width=\"600\"> \n"
      ]
    },
    {
      "cell_type": "markdown",
      "id": "17dae810-0429-4b31-8ece-e298b8fb8ecb",
      "metadata": {},
      "outputs": [],
      "source": [
        "Now, let's create our own `Choropleth` map of the world depicting total number of diabetes cases among all of the US States.\n"
      ]
    },
    {
      "cell_type": "markdown",
      "id": "d662debd-9940-4100-aba3-ece3c7acd84f",
      "metadata": {},
      "outputs": [],
      "source": [
        "In order to create a `Choropleth` map, we need our GeoJSON. Let's create a world map, centered around [36.130, -96.35] latitude and longitude values, with an initisal zoom level of 3.\n"
      ]
    },
    {
      "cell_type": "code",
      "id": "678ac3bd-ea1d-4f70-8313-000b1ed6471f",
      "metadata": {},
      "outputs": [],
      "source": [
        "# create a plain world map\nworld_map = folium.Map(location=[36.130, -96.35], zoom_start=3)"
      ]
    },
    {
      "cell_type": "markdown",
      "id": "1c1ce40a-5110-4ed9-9e01-6de928d8b8a6",
      "metadata": {},
      "outputs": [],
      "source": [
        "And now to create a `Choropleth` map, we will use the *choropleth* method with the following main parameters:\n\n1. `geo_data`, which is the GeoJSON file.\n2. `data`, which is the dataframe containing the data.\n3. `columns`, which represents the columns in the dataframe that will be used to create the `Choropleth` map.\n4. `key_on`, which is the key or variable in the GeoJSON file that contains the name of the variable of interest. To determine that, you will need to open the GeoJSON file using any text editor and note the name of the key or variable that contains the name of the states, since the states are our variable of interest. In this case, **NAME** is the key in the GeoJSON file that contains the name of the states. Note that this key is case_sensitive, so you need to pass exactly as it exists in the GeoJSON file.\n"
      ]
    },
    {
      "cell_type": "code",
      "id": "699d61b1-0ca5-496e-abfd-a4891ec85306",
      "metadata": {},
      "outputs": [],
      "source": [
        "# generate choropleth map using the total number of diabetes cases in the USA\nfolium.Choropleth(\n    geo_data=states,\n    data=df_new,\n    columns=['State', 'Count'],\n    key_on='feature.properties.NAME',\n    fill_color='YlOrRd', \n    fill_opacity=0.7, \n    line_opacity=0.2,\n    legend_name='Number of diabetes cases in the USA',\n).add_to(world_map)\n\n# display map\nworld_map"
      ]
    },
    {
      "cell_type": "markdown",
      "id": "08100a68-6407-4f42-9ca5-c6af822385b6",
      "metadata": {},
      "outputs": [],
      "source": [
        "As per our `Choropleth` map legend, the darker the color of a state and the closer the color to red, the higher the percentage of people with diabetes in that state. As we remember, we added states randomly, so every time you rerun the entire code, the output will be not the same.\n"
      ]
    },
    {
      "cell_type": "markdown",
      "id": "ad740c5e-dd59-4812-9b51-56aa96f05b28",
      "metadata": {},
      "outputs": [],
      "source": [
        "**Question**: Create a map of average time in hospital of people with diabetes in the USA using Choropleth.\n"
      ]
    },
    {
      "cell_type": "code",
      "id": "57b12116-1416-405f-9e2a-59b1d14ab015",
      "metadata": {},
      "outputs": [],
      "source": [
        "### type your answer here"
      ]
    },
    {
      "cell_type": "markdown",
      "id": "87707666-5823-44a3-b24e-1f8687175cf9",
      "metadata": {},
      "outputs": [],
      "source": [
        "<details><summary>Click here for a sample python solution</summary>\n\n```python\n#The correct answer is:\n# Create new dataframe with state and time in hospital columns\ndf_hosp_time = df[['State', 'Time In Hospital']]\n\n# Group the data by state and get the mean of time in hospital\ndf_hosp_time = df_hosp_time.groupby('State').mean().reset_index()\n\n# let Folium determine the scale.\nworld_map = folium.Map(location=[0, 0], zoom_start=2)\nfolium.Choropleth(\n    geo_data=states,\n    data=df_hosp_time,\n    columns=['State', 'Time In Hospital'],\n    key_on='feature.properties.NAME',\n    fill_color='YlOrRd', \n    fill_opacity=0.7, \n    line_opacity=0.2,\n    legend_name='Average time in hospital of people with diabetes in the USA',\n    reset=True\n).add_to(world_map)\nworld_map\n```\n\n</details>\n"
      ]
    },
    {
      "cell_type": "markdown",
      "id": "8d773edf-fcc4-4282-85ed-dd08731772a4",
      "metadata": {},
      "outputs": [],
      "source": [
        "Feel free to play around with the data and perhaps create `Choropleth` maps for individuals ages, or perhaps races, and see how they compare with the variations of da\n"
      ]
    },
    {
      "cell_type": "markdown",
      "id": "8a9713a8-755e-42df-baeb-74ad47eff91b",
      "metadata": {},
      "outputs": [],
      "source": [
        "## Conclusions\n\nIn summary, leveraging tools such as Folium for geospatial data visualization presents significant potential in the healthcare sector, especially in visualizing diabetes in the USA. Through the conversion of intricate datasets into interactive maps, healthcare practitioners can glean crucial insights into geographic patterns and discrepancies in diabetes distribution. This equips them to make educated choices, efficiently distribute resources, and execute precise interventions aimed at enhancing diabetes wellness on a global scale.\n"
      ]
    },
    {
      "cell_type": "markdown",
      "id": "a072fdd7-5307-458d-8e97-4db7697a9d98",
      "metadata": {},
      "outputs": [],
      "source": [
        "### Thank you for completing this lab!\n\n## Author\n\n<a href=\"https://author.skills.network/instructors/bohdan_kuno\">Bohdan Kuno</a>\n\n### Other Contributors\n\n<a href=\"https://author.skills.network/instructors/yaroslav_vyklyuk_2\">Prof. Yaroslav Vyklyuk, DrSc, PhD</a>\n\n<a href=\"https://author.skills.network/instructors/nataliya_boyko\">Ass. Prof. Nataliya Boyko, PhD</a>\n\n## Change Log\n\n| Date (YYYY-MM-DD) | Version | Changed By | Change Description                                         |\n| ----------------- | ------- | ---------- | ---------------------------------------------------------- |\n|2023-12-18|01|Bohdan Kuno|Lab created|\n\n\n<hr>\n\n## <h3 align=\"center\"> © IBM Corporation 2023. All rights reserved. <h3/>\n"
      ]
    }
  ],
  "metadata": {
    "kernelspec": {
      "display_name": "Python",
      "language": "python",
      "name": "conda-env-python-py"
    },
    "language_info": {
      "name": "python",
      "version": "3.7.12",
      "mimetype": "text/x-python",
      "codemirror_mode": {
        "name": "ipython",
        "version": 3
      },
      "pygments_lexer": "ipython3",
      "nbconvert_exporter": "python",
      "file_extension": ".py"
    }
  },
  "nbformat": 4,
  "nbformat_minor": 5
}