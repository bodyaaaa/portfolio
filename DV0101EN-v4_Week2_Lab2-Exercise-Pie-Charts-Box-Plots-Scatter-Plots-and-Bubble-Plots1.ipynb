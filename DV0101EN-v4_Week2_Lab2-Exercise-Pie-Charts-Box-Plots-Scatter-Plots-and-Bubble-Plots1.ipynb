{
    "cells": [
        {
            "cell_type": "markdown",
            "metadata": {},
            "source": [
                "<center>\n    <img src=\"https://cf-courses-data.s3.us.cloud-object-storage.appdomain.cloud/IBMDeveloperSkillsNetwork-DV0101EN-SkillsNetwork/labs/Module%203/images/IDSNlogo.png\" width=\"300\" alt=\"cognitiveclass.ai logo\">\n</center>\n\n# Pie Charts, Box Plots, Scatter Plots, and Bubble Plots\n\n## Abstract\nThis comprehensive lab will familiarize you with the powerful data visualization capabilities of Matplotlib. The lab will explore the creation and understanding of Pie Charts, Box Plots, Scatter Plots, and Bubble Plots, providing insights into health data related to diabetes. Through hands-on exercises and real-world datasets, you'll gain the abilities to effectively represent and analyze medical information using Matplotlib's diverse plotting techniques. This lab will prepare you to make informed decisions and advancements in the field of healthcare, particularly in diabetes research and analysis.\n\nEstimated time needed: **30** minutes\n\n## Objectives\n\nAfter completing this lab you will be able to:\n\n*   Explore Matplotlib library further\n*   Create pie charts, box plots, scatter plots and bubble charts\n"
            ]
        },
        {
            "cell_type": "markdown",
            "metadata": {},
            "source": [
                "## Table of Contents\n\n<div class=\"alert alert-block alert-info\" style=\"margin-top: 20px\">\n\n1.  [Exploring Datasets with *p*andas](#0)<br>\n2.  [Downloading and Prepping Data](#2)<br>\n3.  [Visualizing Data using Matplotlib](#4) <br>\n4.  [Pie Charts](#6) <br>\n5.  [Box Plots](#8) <br>\n6.  [Scatter Plots](#10) <br>\n7.  [Bubble Plots](#12) <br>\n\n</div>\n"
            ]
        },
        {
            "cell_type": "markdown",
            "metadata": {},
            "source": [
                "# Importing Libraries<a id=\"0\"></a>\n"
            ]
        },
        {
            "cell_type": "code",
            "metadata": {},
            "outputs": [],
            "source": [
                "#Import primary modules.\nimport numpy as np  # useful for many scientific computing in Python\nimport pandas as pd # primary data structure library\n\n#Importing Matplotlib\n#%matplotlib inline\n\nimport matplotlib as mpl\nimport matplotlib.pyplot as plt\n\nmpl.style.use('ggplot') # optional: for ggplot-like style\n\n# check for latest version of Matplotlib\nprint('Matplotlib version: ', mpl.__version__) # >= 2.0.0"
            ],
            "execution_count": null
        },
        {
            "cell_type": "markdown",
            "metadata": {},
            "source": [
                "## Importing Data <a id=\"2\"></a>\n\n## The Dataset: Diabetes 130 US hospitals for years 1999-2008<a id=\"1\"></a>\n<p>\nThere are various formats for a dataset: .csv, .json, .xlsx  etc. The dataset can be stored in different places, on your local machine or sometimes online.<br>\n\nIn this section, you will learn how to load a dataset into our Jupyter Notebook.<br>\n\nIn our case, the Diabetes Dataset is an online source, and it is in a CSV (comma separated value) format. Let's use this dataset as an example to practice data reading.\n\n<ul>\n    <li>Data source: <a href=\"https://www.kaggle.com/datasets/brandao/diabetes\" target=\"_blank\">https://www.kaggle.com/datasets/brandao/diabetes</a></li>\n    <li>Data type: csv</li>\n</ul>\n\nThe statistical data obtained from https://www.kaggle.com/datasets/brandao/diabetes under [CC0: Public Domain](https://creativecommons.org/publicdomain/zero/1.0/) license.\n\nDataset output column is \"Readmitted\" with values \"<30\",\">30\",\"NO\". The rest of the columns (44) are input columns.\n\nThe Pandas Library is a useful tool that enables us to read various datasets into a dataframe; our Jupyter notebook platforms have a built-in <b>Pandas Library</b> so that all we need to do is import Pandas without installing.\n\nWe have already **pre-processed** the data, we will use the **clean data** saved in the csv format for this lab. The original Diabetes dataset can be fetched from [here](https://cf-courses-data.s3.us.cloud-object-storage.appdomain.cloud/IBMSkillsNetwork-GPXX0IT0EN/diabetic_data.csv).\n</p>\n\n<details><summary>DataSet structure</summary>\nColumn names:\n    \n1. `Race` - Race. Values: Caucasian, Asian, African American, Hispanic, and other\n2. `Gender` - Gender. Values: male, female, and unknown/invalid \n3. `Age` - Age grouped in 10-year intervals: [0, 10), [10, 20), ..., [90, 100)\n4. `Weight` - Weight in pounds \n5. `Time In Hospital` - Integer number of days between admission and discharge\n6. `Medical Specialty` - Integer identifier of a specialty of the admitting physician, corresponding to 84 distinct values \n7. `Num Lab Procedures` - Number of lab tests performed during the encounter \n8. `Num Procedures` - Number of procedures (other than lab tests) performed during the encounter \n9. `Num Medications` - Number of distinct generic names administered during the encounter \n10. `Number Outpatient` - Number of outpatient visits of the patient in the year preceding the encounter \n11. `Number Emergency` - Number of emergency visits of the patient in the year preceding the encounter \n12. `Number Inpatient` - Number of inpatient visits of the patient in the year preceding the encounter \n13. `Diagnosis1` - The primary diagnosis (coded as first three digits of ICD9); 848 distinct values\n14. `Diagnosis2` - Secondary diagnosis (coded as first three digits of ICD9); 923 distinct values\n15. `Diagnosis3` - Additional secondary diagnosis (coded as first three digits of ICD9); 954 distinct values\n16. `Number Diagnoses` - Number of diagnoses entered into the system \n17. `Max Glu Serum` - Indicates the range of the result or if the test was not taken. Values: >200, >300, normal, none if not measured\n18. `A1c Result` - Indicates the range of the result or if the test was not taken. Values: >8, >7, normal, none if not measured\n19. `Metformin` - Indicates whether the drug was prescribed or there was a change in the dosage \n20. `Repaglinide` - Indicates whether the drug was prescribed or there was a change in the dosage \n21. `Nateglinide` - Indicates whether the drug was prescribed or there was a change in the dosage \n22. `Chlorpropamide` - Indicates whether the drug was prescribed or there was a change in the dosage \n23. `Glimepiride` - Indicates whether the drug was prescribed or there was a change in the dosage\n24. `Acetohexamide` - Indicates whether the drug was prescribed or there was a change in the dosage \n25. `Glipizide` - Indicates whether the drug was prescribed or there was a change in the dosage \n26. `Glyburide` - Indicates whether the drug was prescribed or there was a change in the dosage \n27. `Tolbutamide` - Indicates whether the drug was prescribed or there was a change in the dosage \n28. `Pioglitazone` - Indicates whether the drug was prescribed or there was a change in the dosage \n29. `Rosiglitazone` - Indicates whether the drug was prescribed or there was a change in the dosage \n30. `Acarbose` - Indicates whether the drug was prescribed or there was a change in the dosage \n31. `Miglitol` - Indicates whether the drug was prescribed or there was a change in the dosage \n32. `Troglitazone` - Indicates whether the drug was prescribed or there was a change in the dosage \n33. `Tolazamide` - Indicates whether the drug was prescribed or there was a change in the dosage \n34. `Examide` - Indicates whether the drug was prescribed or there was a change in the dosage \n35. `Citoglipton` - Indicates whether the drug was prescribed or there was a change in the dosage \n36. `Insulin` - Indicates whether the drug was prescribed or there was a change in the dosage \n37. `Glyburide-metformin` - Indicates whether the drug was prescribed or there was a change in the dosage \n38. `Glipizide-metformin` - Indicates whether the drug was prescribed or there was a change in the dosage \n39. `Glimepiride-pioglitazone` - Indicates whether the drug was prescribed or there was a change in the dosage \n40. `Metformin-rosiglitazone` - Indicates whether the drug was prescribed or there was a change in the dosage \n41. `Metformin-pioglitazone` - Indicates whether the drug was prescribed or there was a change in the dosage \n42. `Change` - Indicates if there was a change in diabetic medications (either dosage or generic name)\n43. `Diabetes Medication` - Indicates if there was any diabetic medication prescribed\n44. **`Readmitted`** - Days to inpatient readmission. Values: <30, >30, No for no record of readmission\n</details>\n"
            ]
        },
        {
            "cell_type": "code",
            "metadata": {},
            "outputs": [],
            "source": [
                "df = pd.read_csv('https://cf-courses-data.s3.us.cloud-object-storage.appdomain.cloud/IBMSkillsNetwork-GPXX0L8IEN/diabetes_new.csv')\n\nprint('Data read into a pandas dataframe!')"
            ],
            "execution_count": null
        },
        {
            "cell_type": "code",
            "metadata": {},
            "outputs": [],
            "source": [
                "df.head()"
            ],
            "execution_count": null
        },
        {
            "cell_type": "markdown",
            "metadata": {},
            "source": [
                "Let's find out how many entries there are in our dataset.\n"
            ]
        },
        {
            "cell_type": "code",
            "metadata": {},
            "outputs": [],
            "source": [
                "# print the dimensions of the dataframe\nprint(df.shape)"
            ],
            "execution_count": null
        },
        {
            "cell_type": "markdown",
            "metadata": {},
            "source": [
                "# Visualizing Data using Matplotlib<a id=\"4\"></a>\n"
            ]
        },
        {
            "cell_type": "markdown",
            "metadata": {},
            "source": [
                "# Pie Charts <a id=\"6\"></a>\n\nA `pie chart` is a circular graphic that displays numeric proportions by dividing a circle (or pie) into proportional slices. You are most likely already familiar with pie charts as it is widely used in business and media. We can create pie charts in Matplotlib by passing in the `kind=pie` keyword.\n\nLet's use a pie chart to explore distribution of number of diabetes cases by race.\n"
            ]
        },
        {
            "cell_type": "markdown",
            "metadata": {},
            "source": [
                "Step 1: Gather data.\n\nWe will use *pandas* `groupby` method to summarize diabetes cases data by race. The general process of `groupby` involves the following steps:\n\n1.  **Split:** Splitting the data into groups based on some criteria.\n2.  **Apply:** Applying a function to each group independently:\n    .sum()\n    .count()\n    .mean()\n    .std()\n    .aggregate()\n    .apply()\n    .etc..\n3.  **Combine:** Combining the results into a data structure.\n"
            ]
        },
        {
            "cell_type": "markdown",
            "metadata": {},
            "source": [
                "<img src=\"https://cf-courses-data.s3.us.cloud-object-storage.appdomain.cloud/IBMDeveloperSkillsNetwork-DV0101EN-SkillsNetwork/labs/Module%203/images/Mod3Fig4SplitApplyCombine.png\" height=\"400\" align=\"center\">\n"
            ]
        },
        {
            "cell_type": "code",
            "metadata": {},
            "outputs": [],
            "source": [
                "# df_race\n# Create a copy of the 'Race' column\ndf_race = pd.DataFrame(df['Race'].copy())\n\n# Add a 'Count' column \ndf_race['Count'] = 1\n\n# Filter out rows where 'Race' is mmissing ('?')\ndf_race = df_race[df_race['Race'] != '?']\n\n# Group by 'Race' and sum the counts\ndf_race = df_race.groupby('Race').sum()\ndf_race"
            ],
            "execution_count": null
        },
        {
            "cell_type": "markdown",
            "metadata": {},
            "source": [
                "Step 2: Plot the data. We will pass in `kind = 'pie'` keyword, along with the following additional parameters:\n\n*   `autopct` -  is a string or function used to label the wedges with their numeric value. The label will be placed inside the wedge. If it is a format string, the label will be `fmt%pct`.\n*   `startangle` - rotates the start of the pie chart by angle degrees counterclockwise from the x-axis.\n*   `shadow` - Draws a shadow beneath the pie (to give a 3D feel).\n"
            ]
        },
        {
            "cell_type": "code",
            "metadata": {},
            "outputs": [],
            "source": [
                "# autopct create %, start angle represent starting point\ndf_race['Count'].plot(kind='pie',\n                            figsize=(5, 6),\n                            autopct='%1.1f%%', # add in percentages\n                            startangle=90,     # start angle 90\u00b0\n                            shadow=True,       # add shadow      \n                            )\n\nplt.title('Distribution of Diabetes Cases by Race')\nplt.axis('equal') # Sets the pie chart to look like a circle.\nplt.legend(labels=df_race.index, loc='upper left') \n\n\nplt.show()"
            ],
            "execution_count": null
        },
        {
            "cell_type": "markdown",
            "metadata": {},
            "source": [
                "The above visual is not very clear, the numbers and text overlap in some instances. Let's make a few modifications to improve the visuals:\n\n*   Remove the text labels on the pie chart by passing in `legend` and add it as a seperate legend using `plt.legend()`.\n*   Push out the percentages to sit just outside the pie chart by passing in `pctdistance` parameter.\n*   Pass in a custom set of colors for races by passing in `colors` parameter.\n*   **Explode** the pie chart to emphasize the lowest three groups (Asian, Hispanic, Other) by passing in `explode` parameter.\n"
            ]
        },
        {
            "cell_type": "code",
            "metadata": {},
            "outputs": [],
            "source": [
                "colors_list = ['gold', 'yellowgreen', 'lightcoral', 'lightskyblue', 'lightgreen', 'pink']\nexplode_list = [0, 0.2, 0, 0.1, 0.2] # ratio for each race with which to offset each wedge.\n\ndf_race['Count'].plot(kind='pie',\n                            figsize=(10, 6),\n                            autopct='%1.1f%%', \n                            startangle=90,    \n                            shadow=True,       \n                            labels=None,         # turn off labels on pie chart\n                            pctdistance=1.12,    # the ratio between the center of each pie slice and the start of the text generated by autopct \n                            colors=colors_list,  # add custom colors\n                            explode=explode_list # 'explode' lowest 4 races\n                            )\n\n# scale the title up by 12% to match pctdistance\nplt.title('Distribution of Diabetes Cases by Race', y=1.12, fontsize = 15) \n\nplt.axis('equal') \n\n# add legend\nplt.legend(labels=df_race.index, loc='upper left', fontsize=7) \n\nplt.show()"
            ],
            "execution_count": null
        },
        {
            "cell_type": "markdown",
            "metadata": {},
            "source": [
                "**Question:** Using a pie chart, explore the distribution of number of diabetes cases grouped by gender.\n\n**Note**: You might need to play with the explore values in order to fix any overlapping slice values.\n"
            ]
        },
        {
            "cell_type": "code",
            "metadata": {},
            "outputs": [],
            "source": [
                "### type your answer here\n\n# Create a copy of the 'Gender' column\ndf_gender = pd.DataFrame(df['Gender'].copy())\n\n# Add a 'Count' column \ndf_gender['Count'] = 1\n\n# Group by 'Gender' and sum the counts\ndf_gender = df_gender.groupby('Gender').sum()\n\n\nexplode_list = [0.1, 0.1, 0.2] # ratio for each gender with which to offset each wedge.\n\ndf_gender['Count'].plot(kind='pie',\n                            figsize=(15, 6),\n                            autopct='%1.3f%%', \n                            startangle=90,    \n                            shadow=True,       \n                            labels=None,                 # turn off labels on pie chart\n                            pctdistance=1.12,            # the ratio between the pie center and start of text label\n                            explode=explode_list         # 'explode' lowest genders\n                            )\n\n# scale the title up by 12% to match pctdistance\nplt.title('Distribution of Diabetes Cases by Gender', y=1.12) \nplt.axis('equal') \n\n# add legend\nplt.legend(labels=df_gender.index, loc='upper left') \n\n# show plot\nplt.show()"
            ],
            "execution_count": null
        },
        {
            "cell_type": "markdown",
            "metadata": {},
            "source": [
                "<details><summary>Click here for a sample python solution</summary>\n\n```python\n#The correct answer is:\n\n# Create a copy of the 'Gender' column\ndf_gender = pd.DataFrame(df['Gender'].copy())\n\n# Add a 'Count' column \ndf_gender['Count'] = 1\n\n# Group by 'Gender' and sum the counts\ndf_gender = df_gender.groupby('Gender').sum()\n\n\nexplode_list = [0.1, 0.1, 0.2] # ratio for each gender with which to offset each wedge.\n\ndf_gender['Count'].plot(kind='pie',\n                            figsize=(15, 6),\n                            autopct='%1.3f%%', \n                            startangle=90,    \n                            shadow=True,       \n                            labels=None,                 # turn off labels on pie chart\n                            pctdistance=1.12,            # the ratio between the pie center and start of text label\n                            explode=explode_list         # 'explode' lowest genders\n                            )\n\n# scale the title up by 12% to match pctdistance\nplt.title('Distribution of Diabetes Cases by Gender', y=1.12) \nplt.axis('equal') \n\n# add legend\nplt.legend(labels=df_gender.index, loc='upper left') \n\n# show plot\nplt.show()\n```\n\n</details>\n"
            ]
        },
        {
            "cell_type": "markdown",
            "metadata": {},
            "source": [
                "# Box Plots <a id=\"8\"></a>\n\nA `box plot` is a way of statistically representing the *distribution* of the data through five main dimensions:\n\n*   **Minimum:** The smallest number in the dataset excluding the outliers.\n*   **First quartile:** Middle number between the `minimum` and the `median`.\n*   **Second quartile (Median):** Middle number of the (sorted) dataset.\n*   **Third quartile:** Middle number between `median` and `maximum`.\n*   **Maximum:** The largest number in the dataset excluding the outliers.\n"
            ]
        },
        {
            "cell_type": "markdown",
            "metadata": {},
            "source": [
                "<img src=\"https://cf-courses-data.s3.us.cloud-object-storage.appdomain.cloud/IBMDeveloperSkillsNetwork-DV0101EN-SkillsNetwork/labs/Module%203/images/boxplot_complete.png\" width=\"440,\" align=\"center\">\n"
            ]
        },
        {
            "cell_type": "markdown",
            "metadata": {},
            "source": [
                "To make a `boxplot`, we can use `kind=box` in `plot` method invoked on a *pandas* series or dataframe.\n\nLet's plot the box plot for the average time in hospital by age of patients.\n"
            ]
        },
        {
            "cell_type": "markdown",
            "metadata": {},
            "source": [
                "Step 1: Get the subset of the dataset. Even though we are extracting the data for just one column, we will obtain it as a dataframe. This will help us with calling the `dataframe.describe()` method to view the percentiles.\n"
            ]
        },
        {
            "cell_type": "code",
            "metadata": {},
            "outputs": [],
            "source": [
                "# Create a df consisting of the 'Age' and 'Time In Hospital' columns\ndf_box = df[['Age', 'Time In Hospital']]\n\n# Group by 'Age' and find the mean\ndf_box = df_box.groupby('Age').mean()\ndf_box"
            ],
            "execution_count": null
        },
        {
            "cell_type": "markdown",
            "metadata": {},
            "source": [
                "Step 2: Plot by passing in `kind='box'`.\n"
            ]
        },
        {
            "cell_type": "code",
            "metadata": {},
            "outputs": [],
            "source": [
                "df_box['Time In Hospital'].plot(kind='box', figsize=(8, 6))\n\nplt.title('Box plot of the average time spent in the hospital by age of people with diabetes')\nplt.ylabel('Number of days')\n\nplt.show()"
            ],
            "execution_count": null
        },
        {
            "cell_type": "markdown",
            "metadata": {},
            "source": [
                "We can immediately make a few key observations from the plot above:\n\n1.  The minimum number of days is around 2.5 (min), maximum number of days is around 4.8 (max), and median number of days is around 4.1 (median).\n2.  25% of the age groups had an average time in hospital of \\~3.6 days or fewer (First quartile).\n3.  75% of the age groups had an average time in hospital of \\~4.5 days or fewer (Third quartile).\n\nWe can view the actual numbers by calling the `describe()` method on the dataframe.\n"
            ]
        },
        {
            "cell_type": "code",
            "metadata": {},
            "outputs": [],
            "source": [
                "df_box.describe()"
            ],
            "execution_count": null
        },
        {
            "cell_type": "markdown",
            "metadata": {},
            "source": [
                "One of the key benefits of box plots is comparing the distribution of multiple datasets. Let's analyze number of outpatient and inpatient visits of the patient in the year preceding the encounter using box plots.\n\n**Question:** Compare the distribution of outpatient and inpatient visits of the patients grouped by age.\n"
            ]
        },
        {
            "cell_type": "markdown",
            "metadata": {},
            "source": [
                "Step 1: Get the dataset for number of outpatient and inpatient visits and call the dataframe **df_out_in**.\n\nWe will use `groupby()` function to group our data by age categories and find mean of inpatient and outpatient visits of the patients. \n"
            ]
        },
        {
            "cell_type": "code",
            "metadata": {},
            "outputs": [],
            "source": [
                "### type your answer here\n# Create a df_out_in with age, outpatient, and inpatient visits\ndf_out_in = df[['Age', 'Number Outpatient', 'Number Inpatient']]\n\n# Group by 'Age' and find mean\ndf_out_in = df_out_in.groupby('Age').mean()\n\ndf_out_in"
            ],
            "execution_count": null
        },
        {
            "cell_type": "markdown",
            "metadata": {},
            "source": [
                "<details><summary>Click here for a sample python solution</summary>\n\n```python\n#The correct answer is:\n# Create a df_out_in with age, outpatient, and inpatient visits\ndf_out_in = df[['Age', 'Number Outpatient', 'Number Inpatient']]\n\n# Group by 'Age' and find mean\ndf_out_in = df_out_in.groupby('Age').mean()\n\ndf_out_in\n```\n\n</details>\n"
            ]
        },
        {
            "cell_type": "markdown",
            "metadata": {},
            "source": [
                "Let's view the percentiles associated with both columns using the `describe()` method.\n"
            ]
        },
        {
            "cell_type": "code",
            "metadata": {},
            "outputs": [],
            "source": [
                "### type your answer here\ndf_out_in.describe()"
            ],
            "execution_count": null
        },
        {
            "cell_type": "markdown",
            "metadata": {},
            "source": [
                "<details><summary>Click here for a sample python solution</summary>\n\n```python\n#The correct answer is:\ndf_out_in.describe()\n```\n</details>\n"
            ]
        },
        {
            "cell_type": "markdown",
            "metadata": {},
            "source": [
                "Step 2: Plot data.\n"
            ]
        },
        {
            "cell_type": "code",
            "metadata": {},
            "outputs": [],
            "source": [
                "### type your answer here\ndf_out_in.plot(kind='box', figsize=(10, 7))\n\nplt.title('Box plots of mean number of inpatient and oupatient visits of the patients')\nplt.ylabel('Mean of visits')\n\nplt.show()"
            ],
            "execution_count": null
        },
        {
            "cell_type": "markdown",
            "metadata": {},
            "source": [
                "<details><summary>Click here for a sample python solution</summary>\n\n```python\n#The correct answer is:\ndf_out_in.plot(kind='box', figsize=(10, 7))\n\nplt.title('Box plots of mean number of inpatient and oupatient visits of the patients')\nplt.ylabel('Mean of visits')\n\nplt.show()\n```\n\n</details>\n"
            ]
        },
        {
            "cell_type": "markdown",
            "metadata": {},
            "source": [
                "We can observe that the median of inpatient visits (\\~0.33) is around two times bigger than median of outpatient visits (\\~0.61). Maximum value of outpatient visits (\\~0.42) is lower than minimum value of inpatient visits (\\~0.53). By the way, we did not take into account the outliers that are present in both graphs. We'll talk about them later.\n"
            ]
        },
        {
            "cell_type": "markdown",
            "metadata": {},
            "source": [
                "If you prefer to create horizontal box plots, you can pass the `vert` parameter in the **plot** function and assign it to *False*. You can also specify a different color in case you are not a big fan of the default red color.\n"
            ]
        },
        {
            "cell_type": "code",
            "metadata": {},
            "outputs": [],
            "source": [
                "# horizontal box plots\ndf_out_in.plot(kind='box', figsize=(10, 7), color='blue', vert=False)\n\nplt.title('Box plots of mean number of inpatient and oupatient visits of the patients')\nplt.ylabel('Type of visits')\n\nplt.show()"
            ],
            "execution_count": null
        },
        {
            "cell_type": "markdown",
            "metadata": {},
            "source": [
                "**Subplots**\n\nOften times we might want to plot multiple plots within the same figure. For example, we might want to perform a side by side comparison of the box plot with the line plot of inpatient and oupatient visits.\n\nTo visualize multiple plots together, we can create a **`figure`** (overall canvas) and divide it into **`subplots`**, each containing a plot. With **subplots**, we usually work with the **artist layer** instead of the **scripting layer**.\n\nTypical syntax is : <br>\n\n```python\n    fig = plt.figure() # create figure\n    ax = fig.add_subplot(nrows, ncols, plot_number) # create subplots\n```\n\nWhere\n\n*   `nrows` and `ncols` are used to notionally split the figure into (`nrows` \\* `ncols`) sub-axes,\n*   `plot_number` is used to identify the particular subplot that this function is to create within the notional grid. `plot_number` starts at 1, increments across rows first and has a maximum of `nrows` \\* `ncols` as shown below.\n\n<img src=\"https://cf-courses-data.s3.us.cloud-object-storage.appdomain.cloud/IBMDeveloperSkillsNetwork-DV0101EN-SkillsNetwork/labs/Module%203/images/Mod3Fig5Subplots_V2.png\" width=\"500\" align=\"center\">\n"
            ]
        },
        {
            "cell_type": "markdown",
            "metadata": {},
            "source": [
                "We can then specify which subplot to place each plot by passing in the `ax` paramemter in `plot()` method as follows:\n"
            ]
        },
        {
            "cell_type": "code",
            "metadata": {},
            "outputs": [],
            "source": [
                "fig = plt.figure() # create figure\n\nax0 = fig.add_subplot(1, 2, 1) # add subplot 1 (1 row, 2 columns, first plot)\nax1 = fig.add_subplot(1, 2, 2) # add subplot 2 (1 row, 2 columns, second plot). See tip below**\n\n# Subplot 1: Box plot\ndf_out_in.plot(kind='box', color='blue', vert=False, figsize=(20, 6), ax=ax0) # add to subplot 1\nax0.set_title('Box plots of mean number of inpatient and oupatient visits of the patients')\nax0.set_xlabel('Mean of visits')\nax0.set_ylabel('Type of visits')\n\n# Subplot 2: Line plot\ndf_out_in.plot(kind='line', figsize=(20, 6), ax=ax1) # add to subplot 2\nax1.set_title ('Line plots of mean number of inpatient and oupatient visits of the patients')\nax1.set_ylabel('Mean of visits')\nax1.set_xlabel('Age')\n\nplt.show()"
            ],
            "execution_count": null
        },
        {
            "cell_type": "markdown",
            "metadata": {},
            "source": [
                "**Tip regarding subplot convention**\n\nIn the case when `nrows`, `ncols`, and `plot_number` are all less than 10, a convenience exists such that a 3-digit number can be given instead, where the hundreds represent `nrows`, the tens represent `ncols` and the units represent `plot_number`. For instance,\n\n```python\n   subplot(211) == subplot(2, 1, 1) \n```\n\nproduces a subaxes in a figure which represents the top plot (i.e. the first) in a 2 rows by 1 column notional grid (no grid actually exists, but conceptually this is how the returned subplot has been positioned).\n"
            ]
        },
        {
            "cell_type": "markdown",
            "metadata": {},
            "source": [
                "Let's try something a little more advanced.\n\n\n**Question:** Create a box plot to visualize the distribution of the number of lab tests performed during the encounter grouped by races and the *age groups* `Young`, `Middle-aged`, and `Senior`.\n"
            ]
        },
        {
            "cell_type": "markdown",
            "metadata": {},
            "source": [
                "Step 1: Get the dataset. Use `pivot_table()` function to set 'Race' column as index, and set age groups in 'Age' as columns in order to easily create a box plots using `plot() function`. The `pivot_table()` function in Pandas is used to create a spreadsheet-style pivot table that aggregates and reshapes data. It allows you to specify the index, columns, and values to rearrange the data according to those specifications.. Name the dataframe **df_box2**.\n"
            ]
        },
        {
            "cell_type": "code",
            "metadata": {},
            "outputs": [],
            "source": [
                "### type your answer here\n\n# Create df_box2 dataframe using pivot table\ndf_box2 = df.pivot_table(columns='Age', index='Race', values='Num Lab Procedures')\n\n# Excluding missing data\ndf_box2 = df_box2[df_box2.index != '?']\n\ndf_box2"
            ],
            "execution_count": null
        },
        {
            "cell_type": "markdown",
            "metadata": {},
            "source": [
                "<details><summary>Click here for a sample python solution</summary>\n\n```python\n#The correct answer is:\n# Create df_box2 dataframe using pivot table\ndf_box2 = df.pivot_table(columns='Age', index='Race', values='Num Lab Procedures')\n\n# Excluding missing data\ndf_box2 = df_box2[df_box2.index != '?']\n\ndf_box2\n```\n\n</details>\n"
            ]
        },
        {
            "cell_type": "markdown",
            "metadata": {},
            "source": [
                "Step 2: Create a new columns containing age categories by finding mean of existing age groups. One way to do that:\n\n1.  Define new age group columns by finding a mean of the respective age ranges\n2.  Drop the original age columns after merging\n"
            ]
        },
        {
            "cell_type": "code",
            "metadata": {},
            "outputs": [],
            "source": [
                "### type your answer here\n\n# Define new age group columns by finding a mean of the respective age ranges\ndf_box2['Young'] = df_box2.iloc[:, 0:3].mean(axis=1)\ndf_box2['Middle-aged'] = df_box2.iloc[:, 3:7].mean(axis=1)\ndf_box2['Senior'] = df_box2.iloc[:, 7:].mean(axis=1)\n\n# Drop the original age columns after merging\ndf_box2 = df_box2.drop(df_box2.columns[0:10], axis=1)\ndf_box2"
            ],
            "execution_count": null
        },
        {
            "cell_type": "markdown",
            "metadata": {},
            "source": [
                "<details><summary>Click here for a sample python solution</summary>\n\n```python\n#The correct answer is:\n# Define new age group columns by finding a mean of the respective age ranges\ndf_box2['Young'] = df_box2.iloc[:, 0:3].mean(axis=1)\ndf_box2['Middle-aged'] = df_box2.iloc[:, 3:7].mean(axis=1)\ndf_box2['Senior'] = df_box2.iloc[:, 7:].mean(axis=1)\n\n# Drop the original age columns after merging\ndf_box2 = df_box2.drop(df_box2.columns[0:10], axis=1)\ndf_box2\n```\n\n</details>\n"
            ]
        },
        {
            "cell_type": "markdown",
            "metadata": {},
            "source": [
                "Let's learn more about the statistics associated with the dataframe using the `describe()` method.\n"
            ]
        },
        {
            "cell_type": "code",
            "metadata": {},
            "outputs": [],
            "source": [
                "### type your answer here\ndf_box2.describe()"
            ],
            "execution_count": null
        },
        {
            "cell_type": "markdown",
            "metadata": {},
            "source": [
                "<details><summary>Click here for a sample python solution</summary>\n\n```python\n#The correct answer is:    \ndf_box2.describe()\n```\n\n</details>\n"
            ]
        },
        {
            "cell_type": "markdown",
            "metadata": {},
            "source": [
                "Step 3: Plot the box plots.\n"
            ]
        },
        {
            "cell_type": "code",
            "metadata": {},
            "outputs": [],
            "source": [
                "### type your answer here\ndf_box2.plot(kind='box', figsize=(10, 6))\n\nplt.title('Number of lab tests performed during the encounter grouped the age groups')\n\nplt.show()"
            ],
            "execution_count": null
        },
        {
            "cell_type": "markdown",
            "metadata": {},
            "source": [
                "<details><summary>Click here for a sample python solution</summary>\n\n```python\n#The correct answer is:    \ndf_box2.plot(kind='box', figsize=(10, 6))\n\nplt.title('Number of lab tests performed during the encounter grouped the age groups')\n\nplt.show()\n```\n\n</details>\n"
            ]
        },
        {
            "cell_type": "markdown",
            "metadata": {},
            "source": [
                "This box plot scans the data and identifies the outliers. In order to be an outlier, the data value must be:<br>\n\n*   larger than Q3 by at least 1.5 times the interquartile range (IQR), or,\n*   smaller than Q1 by at least 1.5 times the IQR.\n\nLet's look at 'Young' age category as an example: <br>\n\n*   Q1 (25%) = 41.1667 <br>\n*   Q3 (75%) = 42.5135 <br>\n*   IQR = Q3 - Q1 = 1.3468 <br>\n\nUsing the definition of outlier, any value that is greater than Q3 by 1.5 times IQR will be flagged as outlier.\n\nOutlier > 42.5135 + (1.5 \\* 1.3468) <br>\nOutlier > 44.5337\n"
            ]
        },
        {
            "cell_type": "code",
            "metadata": {},
            "outputs": [],
            "source": [
                "# let's check how many entries fall above the outlier threshold \ndf_box2 = df_box2.reset_index()\ndf_box2[df_box2['Young'] > 44.5337]"
            ],
            "execution_count": null
        },
        {
            "cell_type": "markdown",
            "metadata": {},
            "source": [
                "<details><summary>Click here for a sample python solution</summary>\n\n```python\n#The correct answer is:    \ndf_box2 = df_box2.reset_index()\ndf_box2[df_box2['Young'] > 44.5337]\n```\n\n</details>\n"
            ]
        },
        {
            "cell_type": "markdown",
            "metadata": {},
            "source": [
                "'Other' races are considered as outlier since their number of lab tests performed during the encounter exceeds 44.5337\n\nThe box plot is an advanced visualizaiton tool, and there are many options and customizations that exceed the scope of this lab. Please refer to [Matplotlib documentation](https://matplotlib.org/3.1.1/api/_as_gen/matplotlib.pyplot.boxplot.html?utm_medium=Exinfluencer&utm_source=Exinfluencer&utm_content=000026UJ&utm_term=10006555&utm_id=NA-SkillsNetwork-Channel-SkillsNetworkCoursesIBMDeveloperSkillsNetworkDV0101ENSkillsNetwork970-2023-01-01) on box plots for more information.\n"
            ]
        },
        {
            "cell_type": "markdown",
            "metadata": {},
            "source": [
                "# Scatter Plots <a id=\"10\"></a>\n\nA `scatter plot` (2D) is a useful method of comparing variables against each other. `Scatter` plots look similar to `line plots` in that they both map independent and dependent variables on a 2D graph. While the data points are connected together by a line in a line plot, they are not connected in a scatter plot. The data in a scatter plot is considered to express a trend. With further analysis using tools like regression, we can mathematically calculate this relationship and use it to predict trends outside the dataset.\n\nLet's start by exploring the following:\n\nUsing a `scatter plot`, let's visualize the trend of number of diagnoses among patients with diabetes for all age groups.\n"
            ]
        },
        {
            "cell_type": "markdown",
            "metadata": {},
            "source": [
                "Step 1: Get the dataset.\n"
            ]
        },
        {
            "cell_type": "code",
            "metadata": {},
            "outputs": [],
            "source": [
                "df_scatter = pd.DataFrame(df[['Age', 'Number Diagnoses']].copy())\ndf_scatter = df_scatter.groupby('Age').mean().reset_index()\ndf_scatter"
            ],
            "execution_count": null
        },
        {
            "cell_type": "markdown",
            "metadata": {},
            "source": [
                "Step 2: Plot the data. In `Matplotlib`, we can create a `scatter` plot set by passing in `kind='scatter'` as plot argument. We will also need to pass in `x` and `y` keywords to specify the columns that go on the x- and the y-axis.\n"
            ]
        },
        {
            "cell_type": "code",
            "metadata": {},
            "outputs": [],
            "source": [
                "df_scatter.plot(kind='scatter', x='Age', y='Number Diagnoses', figsize=(10, 6), color='darkblue')\n\nplt.title('Average number of diagnoses entered to the system by age')\nplt.xlabel('Age')\nplt.ylabel('Number of diagnoses')\n\nplt.show()"
            ],
            "execution_count": null
        },
        {
            "cell_type": "markdown",
            "metadata": {},
            "source": [
                "Notice how the scatter plot does not connect the data  points together. We can clearly observe an upward trend in the data: as the age go by, the average number of diagnoses increases. We can mathematically analyze this upward trend using a regression line (line of best fit).\n"
            ]
        },
        {
            "cell_type": "markdown",
            "metadata": {},
            "source": [
                "So let's try to plot a linear line of best fit, and use it to predict the number of diagnoses for the age of 20.\n\nStep 1: Get the equation of line of best fit. We will use **Numpy**'s `polyfit()` method by passing in the following:\n\n*   `x`: x-coordinates of the data.\n*   `y`: y-coordinates of the data.\n*   `deg`: Degree of fitting polynomial. 1 = linear, 2 = quadratic, and so on.\n"
            ]
        },
        {
            "cell_type": "markdown",
            "metadata": {},
            "source": [
                "The `polyfit()` function from NumPy expects numeric data, and the 'Age' column contains string values. That's why we should transform this values into numerical.\nWe can create a `midpoint_values` dictionary by looping through the range of values and assigning the midpoint to each corresponding age range. It then uses this dictionary to map the string age ranges to their respective midpoint values in the 'Age' column of the DataFrame. \n"
            ]
        },
        {
            "cell_type": "code",
            "metadata": {},
            "outputs": [],
            "source": [
                "# Mapping Age ranges to their midpoint values using a loop\nmidpoint_values = {}\nfor i in range(0, 100, 10):\n    range_str = f'[{i}-{i+10})'\n    midpoint_values[range_str] = i + 5\n\n# Convert Age ranges to midpoint values\ndf_scatter['Age'] = df_scatter['Age'].map(midpoint_values)\ndf_scatter"
            ],
            "execution_count": null
        },
        {
            "cell_type": "markdown",
            "metadata": {},
            "source": [
                "Now the input for `polyfit()` function is correct.\n"
            ]
        },
        {
            "cell_type": "code",
            "metadata": {},
            "outputs": [],
            "source": [
                "x = df_scatter['Age']      # age on x-axis\ny = df_scatter['Number Diagnoses']     # number of diagnoses on y-axis\nfit = np.polyfit(x, y, deg=1)\n\nfit"
            ],
            "execution_count": null
        },
        {
            "cell_type": "markdown",
            "metadata": {},
            "source": [
                "The output is an array with the polynomial coefficients, highest powers first. Since we are plotting a linear regression `y= a * x + b`, our output has two elements  `[0.0525231 , 3.78206156]` with the slope in position 0 and intercept in position 1.\n\nStep 2: Plot the regression line on the `scatter plot`.\n"
            ]
        },
        {
            "cell_type": "code",
            "metadata": {},
            "outputs": [],
            "source": [
                "df_scatter.plot(kind='scatter', x='Age', y='Number Diagnoses', figsize=(10, 6), color='darkblue')\n\nplt.title('Average number of diagnoses entered to the system by age')\nplt.xlabel('Age')\nplt.ylabel('Number of diagnoses')\n\n# plot line of best fit\nplt.plot(x, fit[0] * x + fit[1], color='red') # recall that x is the Age\nplt.annotate('y={0:.4f} x + {1:.4f}'.format(fit[0], fit[1]), xy=(60, 6))\n\nplt.show()\n\n# print out the line of best fit\n'Number of diagnoses = {0:.4f} * Age + {1:.4f}'.format(fit[0], fit[1]) "
            ],
            "execution_count": null
        },
        {
            "cell_type": "markdown",
            "metadata": {},
            "source": [
                "Using the equation of line of best fit, we can estimate the number of diagnoses of patients who are 20 years old:\n\n```python\nNumber of diagnoses = 0.0525 * Age + 3.7821\nNumber of diagnoses = 0.0525 * 20 + 3.7821\nNumber of diagnoses = 4.8321\n```\n\nThe resulting number is quite realistic because, as mentioned earlier, this scatter plot shows an upward trend, so the number of diagnoses for a 20-year-old patient is greater than 15 and less than 25.\n"
            ]
        },
        {
            "cell_type": "markdown",
            "metadata": {},
            "source": [
                "**Question**: Create a scatter plot of the average number of lab tests performed during the encounter grouped by age.\n"
            ]
        },
        {
            "cell_type": "markdown",
            "metadata": {},
            "source": [
                "**Step 1**: Get the data:\n\n1.  Create a dataframe that consists of the age and number of lab procdures only. Name it **df_scatter2**.\n2.  Find a mean of the numbers for each age group and turn the result into a dataframe.\n3.  Reset the index in place.\n4.  Display the resulting dataframe.\n"
            ]
        },
        {
            "cell_type": "code",
            "metadata": {},
            "outputs": [],
            "source": [
                "### type your answer here\n\n# Create a dataframe\ndf_scatter2 = pd.DataFrame(df[['Age', 'Num Lab Procedures']].copy())\n\n# Find a mean by age\ndf_scatter2 = df_scatter2.groupby('Age').mean()\n\n# Reset the index in place\ndf_scatter2.reset_index(inplace=True)\n\n# Show the result\ndf_scatter2"
            ],
            "execution_count": null
        },
        {
            "cell_type": "markdown",
            "metadata": {},
            "source": [
                "<details><summary>Click here for a sample python solution</summary>\n\n```python\n#The correct answer is:      \n# Create a dataframe\ndf_scatter2 = pd.DataFrame(df[['Age', 'Num Lab Procedures']].copy())\n\n# Find a mean by age\ndf_scatter2 = df_scatter2.groupby('Age').mean()\n\n# Reset the index in place\ndf_scatter2.reset_index(inplace=True)\n\n# Show the result\ndf_scatter2\n```\n\n</details>\n"
            ]
        },
        {
            "cell_type": "markdown",
            "metadata": {},
            "source": [
                "**Step 2**: Generate the scatter plot by plotting the number of lab procedures versus age in **df_scatter2**.\n"
            ]
        },
        {
            "cell_type": "code",
            "metadata": {},
            "outputs": [],
            "source": [
                "### type your answer here\n# generate scatter plot\ndf_scatter2.plot(kind='scatter', x='Age', y='Num Lab Procedures', figsize=(10, 6), color='darkblue')\n\n# add title and label to axes\nplt.title('Average number of lab tests performed during the encounter by age')\nplt.xlabel('Age')\nplt.ylabel('Number of lab procedures')\n\n# show plot\nplt.show()"
            ],
            "execution_count": null
        },
        {
            "cell_type": "markdown",
            "metadata": {},
            "source": [
                "<details><summary>Click here for a sample python solution</summary>\n\n```python\n#The correct answer is:  \n    \n# generate scatter plot\ndf_scatter2.plot(kind='scatter', x='Age', y='Num Lab Procedures', figsize=(10, 6), color='darkblue')\n\n# add title and label to axes\nplt.title('Average number of lab tests performed during the encounter by age')\nplt.xlabel('Age')\nplt.ylabel('Number of lab procedures')\n\n# show plot\nplt.show()\n```\n\n</details>\n"
            ]
        },
        {
            "cell_type": "markdown",
            "metadata": {},
            "source": [
                "# Bubble Plots <a id=\"12\"></a>\n\nA `bubble plot` is a variation of the `scatter plot` that displays three dimensions of data (x, y, z). The data points are replaced with bubbles, and the size of the bubble is determined by the third variable `z`, also known as the weight. In `maplotlib`, we can pass in an array or scalar to the parameter `s` to `plot()`, that contains the weight of each point.\n\n**Let's start by analyzing the average number of medications taken by African Americans and Asians**.\n"
            ]
        },
        {
            "cell_type": "markdown",
            "metadata": {},
            "source": [
                "**Step 1**: Get the data for African Americans and Asians.\n"
            ]
        },
        {
            "cell_type": "code",
            "metadata": {},
            "outputs": [],
            "source": [
                "# Transform the dataset to make entities as columns and years as indexes\ndf_bubble = df.pivot_table(index='Age', columns='Race', values='Num Medications').reset_index().drop(columns='?')\n\n# show resulting dataframe\ndf_bubble.head()"
            ],
            "execution_count": null
        },
        {
            "cell_type": "markdown",
            "metadata": {},
            "source": [
                "**Step 2**: Create the normalized weights.\n\nThere are several methods of normalizations in statistics, each with its own use. In this case, we will use [feature scaling](https://en.wikipedia.org/wiki/Feature_scaling?utm_medium=Exinfluencer&utm_source=Exinfluencer&utm_content=000026UJ&utm_term=10006555&utm_id=NA-SkillsNetwork-Channel-SkillsNetworkCoursesIBMDeveloperSkillsNetworkDV0101ENSkillsNetwork20297740-2021-01-01) to bring all values into the range \\[0, 1]. The general formula is:\n\n<img src=\"https://cf-courses-data.s3.us.cloud-object-storage.appdomain.cloud/IBMDeveloperSkillsNetwork-DV0101EN-SkillsNetwork/labs/Module%203/images/Mod3Fig3FeatureScaling.png\" align=\"center\">\n\nwhere $X$ is the original value, $X'$ is the corresponding normalized value. The formula sets the max value in the dataset to 1, and sets the min value to 0. The rest of the data points are scaled to a value between 0-1 accordingly.\n"
            ]
        },
        {
            "cell_type": "code",
            "metadata": {},
            "outputs": [],
            "source": [
                "# normalize African American data\nnorm_aa = (df_bubble['AfricanAmerican'] - df_bubble['AfricanAmerican'].min()) / (df_bubble['AfricanAmerican'].max() - df_bubble['AfricanAmerican'].min())\n\n# normalize Asian data\nnorm_as = (df_bubble['Asian'] - df_bubble['Asian'].min()) / (df_bubble['Asian'].max() - df_bubble['Asian'].min())"
            ],
            "execution_count": null
        },
        {
            "cell_type": "markdown",
            "metadata": {},
            "source": [
                "**Step 3**: Plot the data.\n\n*   To plot two different scatter plots in one plot, we can include the axes one plot into the other by passing it via the `ax` parameter.\n*   We will also pass in the weights using the `s` parameter. Given that the normalized weights are between 0-1, they won't be visible on the plot. Therefore, we will:\n    *   multiply weights by 2000 to scale it up on the graph, and,\n    *   add 10 to compensate for the min value (which has a 0 weight and therefore scale with $\\times 2000$).\n"
            ]
        },
        {
            "cell_type": "code",
            "metadata": {},
            "outputs": [],
            "source": [
                "# AfricanAmerican\nax0 = df_bubble.plot(kind='scatter',\n                    x='Age',\n                    y='AfricanAmerican',\n                    figsize=(14, 8),\n                    alpha=0.5,  # transparency\n                    color='green',\n                    s=norm_aa * 2000 + 10,  # pass in weights \n                    )\n\n# Asian\nax1 = df_bubble.plot(kind='scatter',\n                    x='Age',\n                    y='Asian',\n                    alpha=0.5,\n                    color=\"blue\",\n                    s=norm_as * 2000 + 10,\n                    ax=ax0\n                    )\n\nax0.set_ylabel('Number of medications')\nax0.set_title('Average number of medications for African Americans and Asian by age')\nax0.legend(['AfricanAmerican', 'Asian'], loc='upper left', fontsize='x-large')"
            ],
            "execution_count": null
        },
        {
            "cell_type": "markdown",
            "metadata": {},
            "source": [
                "The size of the bubble corresponds to the magnitude of number of medications for that year, compared to the 0 - 100 data. The larger the bubble is, the more medications are taken by patients of that age group.\n\nIn the graph above, we see that the trends are quite similar, but it takes slightly more medications for African Americans to treat diabetes.\n"
            ]
        },
        {
            "cell_type": "markdown",
            "metadata": {},
            "source": [
                "**Question**: Create bubble plots the average number of medications taken by Caucasian and Hispanic people. You can use **df_bubble** that we defined and used in the previous example.\n"
            ]
        },
        {
            "cell_type": "markdown",
            "metadata": {},
            "source": [
                "Step 1: Normalize the data pertaining to Caucasian and Hispanic people.\n"
            ]
        },
        {
            "cell_type": "code",
            "metadata": {},
            "outputs": [],
            "source": [
                "### type your answer here\n# normalized Caucasian data\nnorm_ca = (df_bubble['Caucasian'] - df_bubble['Caucasian'].min()) / (df_bubble['Caucasian'].max() - df_bubble['Caucasian'].min())\n# normalized Hispanic data\nnorm_hi = (df_bubble['Hispanic'] - df_bubble['Hispanic'].min()) / (df_bubble['Hispanic'].max() - df_bubble['Hispanic'].min())"
            ],
            "execution_count": null
        },
        {
            "cell_type": "markdown",
            "metadata": {},
            "source": [
                "<details><summary>Click here for a sample python solution</summary>\n\n```python\n#The correct answer is:  \n# normalized Caucasian data\nnorm_ca = (df_bubble['Caucasian'] - df_bubble['Caucasian'].min()) / (df_bubble['Caucasian'].max() - df_bubble['Caucasian'].min())\n# normalized Hispanic data\nnorm_hi = (df_bubble['Hispanic'] - df_bubble['Hispanic'].min()) / (df_bubble['Hispanic'].max() - df_bubble['Hispanic'].min())\n```\n\n</details>\n"
            ]
        },
        {
            "cell_type": "markdown",
            "metadata": {},
            "source": [
                "Step 2: Generate the bubble plots.\n"
            ]
        },
        {
            "cell_type": "code",
            "metadata": {},
            "outputs": [],
            "source": [
                "### type your answer here\n# Caucasian\nax0 = df_bubble.plot(kind='scatter',\n                    x='Age',\n                    y='Caucasian',\n                    figsize=(14, 8),\n                    alpha=0.5,                  # transparency\n                    color='green',\n                    s=norm_ca * 2000 + 10,  # pass in weights \n                   )\n\n# Hispanic\nax1 = df_bubble.plot(kind='scatter',\n                    x='Age',\n                    y='Hispanic',\n                    alpha=0.5,\n                    color=\"blue\",\n                    s=norm_hi * 2000 + 10,\n                    ax = ax0\n                   )\n\nax0.set_ylabel('Number of medications')\nax0.set_title('Average number of medications for Caucasian and Hispanic people by age')\nax0.legend(['Caucasian', 'Hispanic'], loc='upper left', fontsize='x-large')"
            ],
            "execution_count": null
        },
        {
            "cell_type": "markdown",
            "metadata": {},
            "source": [
                "<details><summary>Click here for a sample python solution</summary>\n\n```python\n#The correct answer is:  \n    \n# Caucasian\nax0 = df_bubble.plot(kind='scatter',\n                    x='Age',\n                    y='Caucasian',\n                    figsize=(14, 8),\n                    alpha=0.5,                  # transparency\n                    color='green',\n                    s=norm_ca * 2000 + 10,  # pass in weights \n                   )\n\n# Hispanic\nax1 = df_bubble.plot(kind='scatter',\n                    x='Age',\n                    y='Hispanic',\n                    alpha=0.5,\n                    color=\"blue\",\n                    s=norm_hi * 2000 + 10,\n                    ax = ax0\n                   )\n\nax0.set_ylabel('Number of medications')\nax0.set_title('Average number of medications for Caucasian and Hispanic people by age')\nax0.legend(['Caucasian', 'Hispanic'], loc='upper left', fontsize='x-large')\n```\n\n</details>\n"
            ]
        },
        {
            "cell_type": "markdown",
            "metadata": {},
            "source": [
                "## Conclusions\n\nIn conclusion, the use of various visualization tools such as Pie Charts, Box Plots, Scatter Plots, and Bubble Plots can greatly aid healthcare professionals in understanding and communicating diabetes data effectively. Pie Charts can provide a clear overview of the share of people with diabetes, enabling quick comparisons and identifying trends. Box Plots, Scatter Plots, and Bubble Plots can offer deeper insights by showcasing distribution patterns, correlations, and potential outliers, supporting informed decision-making and targeted interventions to address health disparities across different regions.\n"
            ]
        },
        {
            "cell_type": "markdown",
            "metadata": {},
            "source": [
                "### Thank you for completing this lab!\n\n## Author\n\n<a href=\"https://author.skills.network/instructors/bohdan_kuno\">Bohdan Kuno</a>\n\n### Other Contributors\n\n<a href=\"https://author.skills.network/instructors/yaroslav_vyklyuk_2\">Prof. Yaroslav Vyklyuk, DrSc, PhD</a>\n\n<a href=\"https://author.skills.network/instructors/nataliya_boyko\">Ass. Prof. Nataliya Boyko, PhD</a>\n\n## Change Log\n\n| Date (YYYY-MM-DD) | Version | Changed By | Change Description                                         |\n| ----------------- | ------- | ---------- | ---------------------------------------------------------- |\n|2023-12-16|01|Bohdan Kuno|Lab created|\n\n\n<hr>\n\n## <h3 align=\"center\"> \u00a9 IBM Corporation 2023. All rights reserved. <h3/>\n"
            ]
        }
    ],
    "metadata": {
        "kernelspec": {
            "display_name": "Python",
            "language": "python",
            "name": "conda-env-python-py"
        },
        "language_info": {
            "codemirror_mode": {
                "name": "ipython",
                "version": 3
            },
            "file_extension": ".py",
            "mimetype": "text/x-python",
            "name": "python",
            "nbconvert_exporter": "python",
            "pygments_lexer": "ipython3",
            "version": "3.7.12"
        }
    },
    "nbformat": 4,
    "nbformat_minor": 4
}